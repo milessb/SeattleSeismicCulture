{
 "cells": [
  {
   "cell_type": "code",
   "execution_count": 1,
   "metadata": {
    "collapsed": false
   },
   "outputs": [],
   "source": [
    "import nltk\n",
    "from nltk import word_tokenize\n",
    "from nltk.corpus import stopwords\n",
    "from nltk.corpus.reader import PlaintextCorpusReader\n",
    "import string\n",
    "import re # regular expression library\n",
    "import csv\n",
    "import sys\n",
    "import pandas as pd\n",
    "import matplotlib as mpl"
   ]
  },
  {
   "cell_type": "code",
   "execution_count": 2,
   "metadata": {
    "collapsed": false
   },
   "outputs": [
    {
     "data": {
      "text/plain": [
       "['bc.txt',\n",
       " 'ca.txt',\n",
       " 'crew.txt',\n",
       " 'la.txt',\n",
       " 'nist.txt',\n",
       " 'orp.txt',\n",
       " 'rws.txt',\n",
       " 'spur.txt']"
      ]
     },
     "execution_count": 2,
     "metadata": {},
     "output_type": "execute_result"
    }
   ],
   "source": [
    "corpus = PlaintextCorpusReader(\"/Users/geomando/Dropbox/github/CREW_plan_crosswalk/all_plans\", '.*\\.txt',encoding=\"utf8\")\n",
    "corpus.fileids()"
   ]
  },
  {
   "cell_type": "code",
   "execution_count": 3,
   "metadata": {
    "collapsed": false
   },
   "outputs": [],
   "source": [
    "def clean_words(words):\n",
    "    punctuations = list(string.punctuation) + [\"''\",'...']\n",
    "\n",
    "# multi-word strings only there to keep track of what phrases were manually deleted from files\n",
    "    all_plans_stop_words = ['san','francisco', 'spur', 'degenkolb', 'oregon', 'washington','earthquake',\n",
    "                        'california','los', 'angeles','mineral','february','http','www', 'british','columbia','canada',\n",
    "                        '2014','2015','2016','2017','riverbend','united states','york','://','2003','simeon',\n",
    "                        'shakeout','image','noaa','ngdc','mendocino','survey','org','january','cruz','golden','cascadia',\n",
    "                        'orleans','prieta','geology','2013','auditor','march','version','fema','volumes','guide', '1994 ',\n",
    "                        'northridge','adelman','american','andreas','usgs','gov','background','northwest','plate','crescent',\n",
    "                        'nisqually','maule','courthouse','tohoku','San Francisco Planning + Urban Research Association etc',\n",
    "                        'bay area','solid ground','WAEMD etc','Oregon Seismic Safety Policy Advisory Commission', 'osspac'\n",
    "                        'department of geology and gineral industries','california Seismic Safety Commission',\n",
    "                        'Mayors Seismic Safety Task Force','task group','earthquake','seismic',\n",
    "                        'Governors Office of Emergency Services','x','1','(',')',').','1','2','3','4','5','6','7','8','9',\n",
    "                        'also','would','within','need','),','many','90','following','use','may','13','likely','must',\n",
    "                        'level','based','r','].','.,','e','y','g','o','figure','table','0','large','along',\n",
    "                        'could','one','example','2011','north','great','far','photo','much','d','2008','report','order',\n",
    "                        'shall','retrieved','department','southern','dwp','000','could','report','major','post','percent',\n",
    "                        'department','60','15','pep','bc','embcs','general','make','task','group','oregons','embc',\n",
    "                        'earthquakes','california','quake','plates']\n",
    "\n",
    "    recs_stop_words = ['san','francisco', 'spur', 'degenkolb']\n",
    "    stop_words = stopwords.words('english') + recs_stop_words + punctuations\n",
    "    \n",
    "    return [w.lower() for w in words if w.lower() not in stop_words]"
   ]
  },
  {
   "cell_type": "code",
   "execution_count": 4,
   "metadata": {
    "collapsed": false
   },
   "outputs": [],
   "source": [
    "filename = 'collocations_of_resilience_concordances.txt'\n",
    "\n",
    "# Open the file\n",
    "filecolloc = open(filename, 'w')\n",
    "# Save old stdout stream\n",
    "tmpout = sys.stdout\n",
    "# Redirect all \"print\" calls to that file\n",
    "sys.stdout = filecolloc\n",
    "\n",
    "words = corpus.words()\n",
    "words_clean = clean_words(words)\n",
    "text = nltk.Text(words_clean)\n",
    "# print '\\n', 'All files'\n",
    "print('\\n', 'All files')\n",
    "text.collocations(num=50)\n",
    "\n",
    "for fileid in corpus.fileids():\n",
    "    words = corpus.words(fileid)\n",
    "    words_clean = clean_words(words)\n",
    "    text = nltk.Text(words_clean)\n",
    "#     print '\\n', fileid\n",
    "    print('\\n', fileid)\n",
    "    text.collocations(num=50)\n",
    "    \n",
    "# Close file\n",
    "filecolloc.close()\n",
    "# Reset stdout in case you need something else to print\n",
    "sys.stdout = tmpout"
   ]
  },
  {
   "cell_type": "code",
   "execution_count": 5,
   "metadata": {
    "collapsed": false
   },
   "outputs": [],
   "source": [
    "\n",
    "concord_word = 'resilience' # word to find concordances for\n",
    "concord_lines = 1200 # number of output lines/concordances\n",
    "concord_context = 100 # number of characters extracted from left and right of concord_word\n",
    "\n",
    "\n",
    "\n",
    "for fileid in corpus.fileids():\n",
    "    filename = 'concord_' + fileid\n",
    "    # Open the file\n",
    "    fileconcord = open(filename, 'w')\n",
    "    # Save old stdout stream\n",
    "    tmpout = sys.stdout\n",
    "    # Redirect all \"print\" calls to that file\n",
    "    sys.stdout = fileconcord\n",
    "    words = corpus.words(fileid)\n",
    "    text = nltk.Text(words)\n",
    "    #print '\\n', fileid\n",
    "    text.concordance(concord_word, concord_context, concord_lines)\n",
    "    # Close file\n",
    "    fileconcord.close()\n",
    "    # Reset stdout in case you need something else to print\n",
    "    sys.stdout = tmpout       "
   ]
  },
  {
   "cell_type": "code",
   "execution_count": 6,
   "metadata": {
    "collapsed": false
   },
   "outputs": [],
   "source": [
    "# [w for w in spur if re.search('structure$', w)][:10]"
   ]
  },
  {
   "cell_type": "code",
   "execution_count": 7,
   "metadata": {
    "collapsed": false
   },
   "outputs": [],
   "source": [
    "# [w for w in words_nltk if re.search('^re', w)][0:10]"
   ]
  },
  {
   "cell_type": "code",
   "execution_count": 8,
   "metadata": {
    "collapsed": true
   },
   "outputs": [],
   "source": [
    "# [w for w in corpus.words() if re.search('and*', w)]"
   ]
  },
  {
   "cell_type": "code",
   "execution_count": 9,
   "metadata": {
    "collapsed": true
   },
   "outputs": [],
   "source": [
    "\n",
    "# [w for w in corpus.words() if len(w) >= 15]"
   ]
  },
  {
   "cell_type": "code",
   "execution_count": 10,
   "metadata": {
    "collapsed": false
   },
   "outputs": [
    {
     "data": {
      "text/plain": [
       "301177"
      ]
     },
     "execution_count": 10,
     "metadata": {},
     "output_type": "execute_result"
    }
   ],
   "source": [
    "#corpus.words().count('resilience')\n",
    "len(clean_words(corpus.words()))"
   ]
  },
  {
   "cell_type": "code",
   "execution_count": 11,
   "metadata": {
    "collapsed": false
   },
   "outputs": [],
   "source": [
    "# #len(corpus.words())\n",
    "# nist = corpus.words('nist_both_volumes.txt')\n",
    "# clean_nist = clean_words(nist)\n",
    "# fd_nist = nltk.FreqDist(clean_nist)\n",
    "# fd_nist.max"
   ]
  },
  {
   "cell_type": "code",
   "execution_count": null,
   "metadata": {
    "collapsed": false
   },
   "outputs": [],
   "source": []
  },
  {
   "cell_type": "code",
   "execution_count": 12,
   "metadata": {
    "collapsed": false
   },
   "outputs": [
    {
     "data": {
      "image/png": "[encoded data removed]",
      "text/plain": [
       "<matplotlib.figure.Figure at 0x11901c128>"
      ]
     },
     "metadata": {},
     "output_type": "display_data"
    }
   ],
   "source": [
    "fd = nltk.FreqDist(clean_words(corpus.words()))\n",
    "\n",
    "# rcParams['axes.labelsize'] = '20'\n",
    "# tick_params(axis='both', labelsize=20)\n",
    "# figsize(20,10)\n",
    "\n",
    "fig = fd.plot(40,cumulative=False)"
   ]
  },
  {
   "cell_type": "code",
   "execution_count": 13,
   "metadata": {
    "collapsed": false
   },
   "outputs": [],
   "source": [
    "# fd = nltk.FreqDist(clean_words(corpus.words('lifelines_recs/rws_lifelines_recs.txt')))\n",
    "\n",
    "# rcParams['axes.labelsize'] = '20'\n",
    "# tick_params(axis='both', labelsize=20)\n",
    "# figsize(20,10)\n",
    "\n",
    "# fig = fd.plot(40,cumulative=False)"
   ]
  },
  {
   "cell_type": "code",
   "execution_count": 14,
   "metadata": {
    "collapsed": false,
    "scrolled": true
   },
   "outputs": [
    {
     "ename": "PandasError",
     "evalue": "DataFrame constructor not properly called!",
     "output_type": "error",
     "traceback": [
      "\u001b[0;31m---------------------------------------------------------------------------\u001b[0m",
      "\u001b[0;31mPandasError\u001b[0m                               Traceback (most recent call last)",
      "\u001b[0;32m<ipython-input-14-71045d3b86eb>\u001b[0m in \u001b[0;36m<module>\u001b[0;34m()\u001b[0m\n\u001b[0;32m----> 1\u001b[0;31m \u001b[0mcorpus_freq_table\u001b[0m \u001b[0;34m=\u001b[0m \u001b[0mpd\u001b[0m\u001b[0;34m.\u001b[0m\u001b[0mDataFrame\u001b[0m\u001b[0;34m(\u001b[0m\u001b[0mfd\u001b[0m\u001b[0;34m.\u001b[0m\u001b[0mitems\u001b[0m\u001b[0;34m(\u001b[0m\u001b[0;34m)\u001b[0m\u001b[0;34m)\u001b[0m\u001b[0;34m\u001b[0m\u001b[0m\n\u001b[0m\u001b[1;32m      2\u001b[0m \u001b[0mcorpus_freq_table\u001b[0m\u001b[0;34m.\u001b[0m\u001b[0msort\u001b[0m\u001b[0;34m(\u001b[0m\u001b[0mcolumns\u001b[0m\u001b[0;34m=\u001b[0m\u001b[0;36m1\u001b[0m\u001b[0;34m,\u001b[0m \u001b[0maxis\u001b[0m\u001b[0;34m=\u001b[0m\u001b[0;36m0\u001b[0m\u001b[0;34m,\u001b[0m \u001b[0mascending\u001b[0m\u001b[0;34m=\u001b[0m\u001b[0;32mFalse\u001b[0m\u001b[0;34m,\u001b[0m \u001b[0minplace\u001b[0m\u001b[0;34m=\u001b[0m\u001b[0;32mTrue\u001b[0m\u001b[0;34m,\u001b[0m \u001b[0mkind\u001b[0m\u001b[0;34m=\u001b[0m\u001b[0;34m'quicksort'\u001b[0m\u001b[0;34m,\u001b[0m \u001b[0mna_position\u001b[0m\u001b[0;34m=\u001b[0m\u001b[0;34m'last'\u001b[0m\u001b[0;34m)\u001b[0m\u001b[0;34m\u001b[0m\u001b[0m\n\u001b[1;32m      3\u001b[0m \u001b[0mcorpus_freq_table\u001b[0m\u001b[0;34m.\u001b[0m\u001b[0mcolumns\u001b[0m \u001b[0;34m=\u001b[0m \u001b[0;34m[\u001b[0m\u001b[0;34m'Word'\u001b[0m\u001b[0;34m,\u001b[0m \u001b[0;34m'Count'\u001b[0m\u001b[0;34m]\u001b[0m\u001b[0;34m\u001b[0m\u001b[0m\n\u001b[1;32m      4\u001b[0m \u001b[0mcorpus_freq_table\u001b[0m\u001b[0;34m.\u001b[0m\u001b[0mreset_index\u001b[0m\u001b[0;34m(\u001b[0m\u001b[0mdrop\u001b[0m\u001b[0;34m=\u001b[0m\u001b[0;32mTrue\u001b[0m\u001b[0;34m,\u001b[0m \u001b[0minplace\u001b[0m\u001b[0;34m=\u001b[0m\u001b[0;32mTrue\u001b[0m\u001b[0;34m)\u001b[0m\u001b[0;34m\u001b[0m\u001b[0m\n\u001b[1;32m      5\u001b[0m \u001b[0mcorpus_freq_table\u001b[0m\u001b[0;34m[\u001b[0m\u001b[0;34m:\u001b[0m\u001b[0;36m5\u001b[0m\u001b[0;34m]\u001b[0m\u001b[0;34m\u001b[0m\u001b[0m\n",
      "\u001b[0;32m/Users/geomando/anaconda/lib/python3.5/site-packages/pandas/core/frame.py\u001b[0m in \u001b[0;36m__init__\u001b[0;34m(self, data, index, columns, dtype, copy)\u001b[0m\n\u001b[1;32m    343\u001b[0m                                          copy=False)\n\u001b[1;32m    344\u001b[0m             \u001b[0;32melse\u001b[0m\u001b[0;34m:\u001b[0m\u001b[0;34m\u001b[0m\u001b[0m\n\u001b[0;32m--> 345\u001b[0;31m                 \u001b[0;32mraise\u001b[0m \u001b[0mPandasError\u001b[0m\u001b[0;34m(\u001b[0m\u001b[0;34m'DataFrame constructor not properly called!'\u001b[0m\u001b[0;34m)\u001b[0m\u001b[0;34m\u001b[0m\u001b[0m\n\u001b[0m\u001b[1;32m    346\u001b[0m \u001b[0;34m\u001b[0m\u001b[0m\n\u001b[1;32m    347\u001b[0m         \u001b[0mNDFrame\u001b[0m\u001b[0;34m.\u001b[0m\u001b[0m__init__\u001b[0m\u001b[0;34m(\u001b[0m\u001b[0mself\u001b[0m\u001b[0;34m,\u001b[0m \u001b[0mmgr\u001b[0m\u001b[0;34m,\u001b[0m \u001b[0mfastpath\u001b[0m\u001b[0;34m=\u001b[0m\u001b[0;32mTrue\u001b[0m\u001b[0;34m)\u001b[0m\u001b[0;34m\u001b[0m\u001b[0m\n",
      "\u001b[0;31mPandasError\u001b[0m: DataFrame constructor not properly called!"
     ]
    }
   ],
   "source": [
    "corpus_freq_table = pd.DataFrame(fd.items())\n",
    "corpus_freq_table.sort(columns=1, axis=0, ascending=False, inplace=True, kind='quicksort', na_position='last')\n",
    "corpus_freq_table.columns = ['Word', 'Count']\n",
    "corpus_freq_table.reset_index(drop=True, inplace=True)\n",
    "corpus_freq_table[:5]\n"
   ]
  },
  {
   "cell_type": "code",
   "execution_count": null,
   "metadata": {
    "collapsed": false
   },
   "outputs": [],
   "source": [
    "corpus_freq_table['Per Thousand'] = 1000*(corpus_freq_table['Count'] / corpus_freq_table['Count'].sum())"
   ]
  },
  {
   "cell_type": "code",
   "execution_count": null,
   "metadata": {
    "collapsed": false
   },
   "outputs": [],
   "source": [
    "fig, ax = subplots()\n",
    "#minorFormatter = IndexFormatter\n",
    "#minorLocator = MultipleLocator(1)\n",
    "\n",
    "corpus_freq_table[:25].plot(ax=ax, x='Word',y='Per Thousand',legend=False,rot=90, kind='bar')"
   ]
  },
  {
   "cell_type": "code",
   "execution_count": null,
   "metadata": {
    "collapsed": true
   },
   "outputs": [],
   "source": [
    "phase_words = ['preparedness','response','mitigation','restoration','recovery',\n",
    "              'time','days','weeks','months','years']\n",
    "              \n",
    "action_words = ['performance','goals','recommendations','policy','plan','design','retrofit']\n",
    "              \n",
    "people_words = ['city','local','rural','state','national','community','public','social','health','economic','businesses']\n",
    "              \n",
    "thing_words = ['housing','buildings','schools','hospitals','facilities','structures',\n",
    "              'infrastructure','transportation','roads','bridges',\n",
    "              'utilities','energy','electric','power','fuel','gas',\n",
    "              'water','wastewater','communications'\n",
    "             ]\n",
    "\n",
    "dispersion_words = ['DISASTER PHASE','resilience','preparedness','response','mitigation','recovery',\n",
    "                   'GOVERNMENT LEVEL','community','city','local','state','public',\n",
    "                    'CRITICAL SERVICES','social','health','economic','schools','hospitals','facilities',\n",
    "                   'BUILDINGS AND HOUSING','housing','buildings','structures',\n",
    "                    'LIFELINE INFRASTRUCTURE','transportation','roads','bridges','transit',\n",
    "                    'utilities','power','gas','water','wastewater']\n",
    "\n",
    "\n",
    "disp_title = ''"
   ]
  },
  {
   "cell_type": "markdown",
   "metadata": {},
   "source": [
    "PHASE WORDS"
   ]
  },
  {
   "cell_type": "code",
   "execution_count": null,
   "metadata": {
    "collapsed": false
   },
   "outputs": [],
   "source": [
    "fig, ax = subplots()\n",
    "rcParams['axes.labelsize'] = '20'\n",
    "tick_params(axis='both', labelsize=20)\n",
    "#figsize(20,5)\n",
    "nltk.draw.dispersion_plot(clean_words(corpus.words()),dispersion_words,\n",
    "                         title=disp_title)"
   ]
  },
  {
   "cell_type": "code",
   "execution_count": null,
   "metadata": {
    "collapsed": false
   },
   "outputs": [],
   "source": [
    "filename = 'crew.txt'\n",
    "\n",
    "fig, ax = subplots()\n",
    "rcParams['axes.labelsize'] = '20'\n",
    "tick_params(axis='both', labelsize=20)\n",
    "figsize(20,16)\n",
    "xlim(0,7500)\n",
    "nltk.draw.dispersion_plot(clean_words(corpus.words(filename)),dispersion_words,\n",
    "                         title=disp_title)"
   ]
  },
  {
   "cell_type": "markdown",
   "metadata": {},
   "source": [
    "action_words"
   ]
  },
  {
   "cell_type": "code",
   "execution_count": null,
   "metadata": {
    "collapsed": false
   },
   "outputs": [],
   "source": [
    "fig, ax = subplots()\n",
    "rcParams['axes.labelsize'] = '20'\n",
    "tick_params(axis='both', labelsize=20)\n",
    "figsize(20,4)\n",
    "nltk.draw.dispersion_plot(clean_words(corpus.words()),action_words,\n",
    "                         title=disp_title)"
   ]
  },
  {
   "cell_type": "code",
   "execution_count": null,
   "metadata": {
    "collapsed": false
   },
   "outputs": [],
   "source": [
    "filename = 'la.txt'\n",
    "\n",
    "fig, ax = subplots()\n",
    "rcParams['axes.labelsize'] = '20'\n",
    "tick_params(axis='both', labelsize=20)\n",
    "figsize(20,4)\n",
    "nltk.draw.dispersion_plot(clean_words(corpus.words(filename)),action_words,\n",
    "                         title=disp_title)"
   ]
  },
  {
   "cell_type": "markdown",
   "metadata": {},
   "source": [
    "people_words"
   ]
  },
  {
   "cell_type": "code",
   "execution_count": null,
   "metadata": {
    "collapsed": false
   },
   "outputs": [],
   "source": [
    "fig, ax = subplots()\n",
    "rcParams['axes.labelsize'] = '20'\n",
    "tick_params(axis='both', labelsize=20)\n",
    "figsize(20,5)\n",
    "nltk.draw.dispersion_plot(clean_words(corpus.words()),people_words,\n",
    "                         title=disp_title)"
   ]
  },
  {
   "cell_type": "code",
   "execution_count": null,
   "metadata": {
    "collapsed": false
   },
   "outputs": [],
   "source": [
    "filename = 'spur.txt'\n",
    "\n",
    "fig, ax = subplots()\n",
    "rcParams['axes.labelsize'] = '20'\n",
    "tick_params(axis='both', labelsize=20)\n",
    "figsize(20,5)\n",
    "nltk.draw.dispersion_plot(clean_words(corpus.words(filename)),people_words,\n",
    "                         title=disp_title)"
   ]
  },
  {
   "cell_type": "markdown",
   "metadata": {},
   "source": [
    "thing_words"
   ]
  },
  {
   "cell_type": "code",
   "execution_count": null,
   "metadata": {
    "collapsed": false
   },
   "outputs": [],
   "source": [
    "fig, ax = subplots()\n",
    "rcParams['axes.labelsize'] = '20'\n",
    "tick_params(axis='both', labelsize=20)\n",
    "figsize(20,10)\n",
    "nltk.draw.dispersion_plot(clean_words(corpus.words()),thing_words,\n",
    "                         title=disp_title)"
   ]
  },
  {
   "cell_type": "code",
   "execution_count": null,
   "metadata": {
    "collapsed": false,
    "scrolled": false
   },
   "outputs": [],
   "source": [
    "filename = 'spur.txt'\n",
    "\n",
    "fig, ax = subplots()\n",
    "rcParams['axes.labelsize'] = '20'\n",
    "tick_params(axis='both', labelsize=20)\n",
    "figsize(20,10)\n",
    "nltk.draw.dispersion_plot(clean_words(corpus.words(filename)),thing_words,\n",
    "                         title=disp_title)"
   ]
  },
  {
   "cell_type": "code",
   "execution_count": null,
   "metadata": {
    "collapsed": true
   },
   "outputs": [],
   "source": [
    "fd = nltk.FreqDist(clean_words(corpus.words('nist_both_volumes.txt')))"
   ]
  },
  {
   "cell_type": "code",
   "execution_count": null,
   "metadata": {
    "collapsed": false
   },
   "outputs": [],
   "source": [
    "fd."
   ]
  },
  {
   "cell_type": "code",
   "execution_count": null,
   "metadata": {
    "collapsed": false
   },
   "outputs": [],
   "source": [
    "corpus_freq_table = pd.DataFrame(fd.items())\n",
    "corpus_freq_table.sort(columns=1, axis=0, ascending=False, inplace=True, kind='quicksort', na_position='last')\n",
    "corpus_freq_table.columns = ['Word', 'Count']\n",
    "corpus_freq_table.reset_index(drop=True, inplace=True)\n",
    "corpus_freq_table['Word'] = corpus_freq_table['Word'].astype(str)\n",
    "\n",
    "corpus_freq_table['Percent'] = corpus_freq_table['Count'] / corpus_freq_table['Count'].sum()\n",
    "corpus_freq_table[:5]"
   ]
  },
  {
   "cell_type": "code",
   "execution_count": null,
   "metadata": {
    "collapsed": true
   },
   "outputs": [],
   "source": []
  },
  {
   "cell_type": "code",
   "execution_count": null,
   "metadata": {
    "collapsed": true
   },
   "outputs": [],
   "source": []
  }
 ],
 "metadata": {
  "anaconda-cloud": {},
  "kernelspec": {
   "display_name": "Python [default]",
   "language": "python",
   "name": "python3"
  },
  "language_info": {
   "codemirror_mode": {
    "name": "ipython",
    "version": 3
   },
   "file_extension": ".py",
   "mimetype": "text/x-python",
   "name": "python",
   "nbconvert_exporter": "python",
   "pygments_lexer": "ipython3",
   "version": "3.5.2"
  }
 },
 "nbformat": 4,
 "nbformat_minor": 0
}
