{
 "cells": [
  {
   "cell_type": "code",
   "execution_count": 2,
   "metadata": {},
   "outputs": [
    {
     "ename": "ImportError",
     "evalue": "No module named 'selenium'",
     "output_type": "error",
     "traceback": [
      "\u001b[0;31m---------------------------------------------------------------------------\u001b[0m",
      "\u001b[0;31mImportError\u001b[0m                               Traceback (most recent call last)",
      "\u001b[0;32m<ipython-input-2-8313bf95fe97>\u001b[0m in \u001b[0;36m<module>\u001b[0;34m()\u001b[0m\n\u001b[1;32m      5\u001b[0m \u001b[0;32mimport\u001b[0m \u001b[0mre\u001b[0m\u001b[0;34m\u001b[0m\u001b[0m\n\u001b[1;32m      6\u001b[0m \u001b[0;31m# from robobrowser import RoboBrowser\u001b[0m\u001b[0;34m\u001b[0m\u001b[0;34m\u001b[0m\u001b[0m\n\u001b[0;32m----> 7\u001b[0;31m \u001b[0;32mfrom\u001b[0m \u001b[0mselenium\u001b[0m \u001b[0;32mimport\u001b[0m \u001b[0mwebdriver\u001b[0m\u001b[0;34m\u001b[0m\u001b[0m\n\u001b[0m",
      "\u001b[0;31mImportError\u001b[0m: No module named 'selenium'"
     ]
    }
   ],
   "source": [
    "import requests\n",
    "from bs4 import BeautifulSoup\n",
    "import argparse\n",
    "# import mechanicalsoup\n",
    "import re\n",
    "# from robobrowser import RoboBrowser\n",
    "from selenium import webdriver"
   ]
  },
  {
   "cell_type": "code",
   "execution_count": 15,
   "metadata": {},
   "outputs": [],
   "source": [
    "#url = 'https://automatetheboringstuff.com/files/rj.txt'\n",
    "# url = 'http://pacificwa.taxsifter.com/AppraisalDetails.aspx?keyId=403141&parcelNumber=10091711044&typeID=1'\n",
    "# url = 'http://pacificwa.taxsifter.com/Treasurer.aspx?keyId=403141&parcelNumber=10091711044&typeID=1'\n",
    "url = 'http://pacificwa.taxsifter.com/AppraisalDetails.aspx?keyId=403161&parcelNumber=10091714063&typeID=1'\n",
    "\n",
    "res = requests.post(url)"
   ]
  },
  {
   "cell_type": "code",
   "execution_count": 16,
   "metadata": {},
   "outputs": [
    {
     "data": {
      "text/plain": [
       "requests.models.Response"
      ]
     },
     "execution_count": 16,
     "metadata": {},
     "output_type": "execute_result"
    }
   ],
   "source": [
    "type(res)"
   ]
  },
  {
   "cell_type": "code",
   "execution_count": 17,
   "metadata": {},
   "outputs": [
    {
     "data": {
      "text/plain": [
       "True"
      ]
     },
     "execution_count": 17,
     "metadata": {},
     "output_type": "execute_result"
    }
   ],
   "source": [
    "res.status_code == requests.codes.ok"
   ]
  },
  {
   "cell_type": "code",
   "execution_count": 18,
   "metadata": {},
   "outputs": [
    {
     "data": {
      "text/plain": [
       "9772"
      ]
     },
     "execution_count": 18,
     "metadata": {},
     "output_type": "execute_result"
    }
   ],
   "source": [
    "len(res.text)"
   ]
  },
  {
   "cell_type": "code",
   "execution_count": 19,
   "metadata": {},
   "outputs": [
    {
     "name": "stdout",
     "output_type": "stream",
     "text": [
      "\r\n",
      "<!DOCTYPE html PUBLIC \"-//W3C//DTD XHTML 1.0 Transitional//EN\" \"http://www.w3.org/TR/xhtml1/DTD/xhtml1-transitional.dtd\">\r\n",
      "<html xmlns=\"http://www.w3.org/1999/xhtml\">\r\n",
      "<head id=\"ctl00_Head1\"><title>\r\n",
      "\tTerraScan TaxSifter -\r\n",
      "        PACIFIC County Washington\r\n",
      "</title>\r\n",
      "    <!-- png tranparency fix -->\r\n",
      "    <!--[if lt IE 7]>\r\n",
      "        <script type=\"text/javascript\" src='/js/pngfix/unitpngfix.js'></script>\r\n",
      "    <![endif]-->\r\n",
      "    <link href=\"Theme/CSS/DynamicCSS.aspx\" rel=\"stylesheet\" type=\"text/css\" />\r\n",
      "\r\n",
      "    <script type=\"text/javascript\" src=\"http://ajax.googleapis.com/ajax/libs/jquery/1.4.2/jquery.min.js\"></script>\r\n",
      "\r\n",
      "    \r\n",
      "    <link href=\"Theme/css/Disclaimer.css\" rel=\"stylesheet\" type=\"text/css\" />\r\n",
      "    <style type=\"text/css\">\r\n",
      "        .btnDisclaimer\r\n",
      "        {\r\n",
      "            height: 40px;\r\n",
      "            line-height: 40px;\r\n",
      "            padding-left: 5px;\r\n",
      "            padding-right: 5px;\r\n",
      "            border: 0px;\r\n",
      "            color: #ffffff;\r\n",
      "            margin-left: 3px;\r\n",
      "            font-weight: bold;\r\n",
      "        }\r\n",
      "    </style>\r\n",
      "\r\n",
      "    \r\n",
      "    <style type=\"text/css\">\r\n",
      "        .RollYear\r\n",
      "        {\r\n",
      "            font-size:9px;\r\n",
      "            background-color:#fff;\r\n",
      "            color:#333;\r\n",
      "            padding-right:5px;\r\n",
      "            float:right;\r\n",
      "        }\r\n",
      "    </style>\r\n",
      "\r\n",
      "</head>\r\n",
      "<body>\r\n",
      "    <form name=\"aspnetForm\" method=\"post\" action=\"Disclaimer.aspx\" id=\"aspnetForm\">\r\n",
      "<input type=\"hidden\" name=\"__VIEWSTATE\" id=\"__VIEWSTATE\" value=\"/wEPDwUINTA1ODUyOTQPZBYCZg9kFgICAw9kFgICAg9kFgQCAQ8PFgIeBFRleHQFxBINCjxoZWFkPg0KPHN0eWxlPg0KPCEtLQ0KZGl2LlNlY3Rpb24xDQoJe3BhZ2U6U2VjdGlvbjE7fQ0KLS0+DQo8L3N0eWxlPg0KPC9oZWFkPg0KPGRpdiBzdHlsZT0ibWFyZ2luLWxlZnQ6MTVweDtmb250LXdlaWdodDpub3JtYWw7Ij4NClRoZSBpbmZvcm1hdGlvbiBwcm92aWRlZCBieSBQYWNpZmljIENvdW50eSBpcyBwcm92aWRlZCAnYXMgaXMnIGFuZCBmb3IgcmVmZXJlbmNlIG9ubHkuIFRoZSB1c2VyIGV4cHJlc3NseSBhZ3JlZXMgdGhhdCB0aGUgdXNlIG9mIFBhY2lmaWMgQ291bnR5J3Mgd2ViIHNpdGUgaXMgYXQgdGhlIHVzZXIncyBzb2xlIHJpc2suIFBhY2lmaWMgQ291bnR5IGRvZXMgbm90IHdhcnJhbnQgdGhhdCB0aGUgc2VydmljZSB3aWxsIGJlIHVuaW50ZXJydXB0ZWQgb3IgZXJyb3IgZnJlZS4gQW55IGluZm9ybWF0aW9uIHB1Ymxpc2hlZCBvbiB0aGlzIHNlcnZlciBjb3VsZCBjb250YWluIHRlY2huaWNhbCBpbmFjY3VyYWNpZXMgb3IgdHlwb2dyYXBoaWNhbCBlcnJvcnMuIENoYW5nZXMgbWF5IGJlIG1hZGUgcGVyaW9kaWNhbGx5IHRvIHRoZSB0YXggbGF3cywgYWRtaW5pc3RyYXRpdmUgcnVsZXMsIHRheCByZWxlYXNlcyBhbmQgc2ltaWxhciBtYXRlcmlhbHM7IHRoZXNlIGNoYW5nZXMgbWF5IG9yIG1heSBub3QgYmUgaW5jb3Jwb3JhdGVkIGluIGFueSBuZXcgbWF0ZXJpYWxzIG9uIHRoZSB3ZWIgc2l0ZS4NCjwvZGl2Pjxicj4NCg0KPGRpdiBzdHlsZT0ibWFyZ2luLWxlZnQ6MTVweDtmb250LXdlaWdodDpub3JtYWw7Ij4NClBhY2lmaWMgQ291bnR5IG1ha2VzIGV2ZXJ5IGVmZm9ydCB0byBwcm9kdWNlIGFuZCBwdWJsaXNoIHRoZSBtb3N0IGN1cnJlbnQgYW5kIGFjY3VyYXRlIGluZm9ybWF0aW9uIHBvc3NpYmxlLiBObyB3YXJyYW50aWVzLCBleHByZXNzIG9yIGltcGxpZWQsIGFyZSBwcm92aWRlZCBmb3IgdGhlIGRhdGEgcHJvdmlkZWQsIGl0cyB1c2UsIG9yIGl0cyBpbnRlcnByZXRhdGlvbi4gUGFjaWZpYyBDb3VudHkgZG9lcyBub3QgZ3VhcmFudGVlIHRoZSBhY2N1cmFjeSBvZiB0aGUgbWF0ZXJpYWwgY29udGFpbmVkIGhlcmVpbiBhbmQgaXMgbm90IHJlc3BvbnNpYmxlIGZvciBhbnkgbWlzdXNlIG9yIG1pc3JlcHJlc2VudGF0aW9uIG9mIHRoaXMgaW5mb3JtYXRpb24gb3IgaXRzIGRlcml2YXRpdmVzLg0KPC9kaXY+PGJyPg0KDQo8ZGl2IHN0eWxlPSJtYXJnaW4tbGVmdDoxNXB4O2ZvbnQtd2VpZ2h0Om5vcm1hbDsiPg0KSWYgeW91IGhhdmUgb2J0YWluZWQgaW5mb3JtYXRpb24gZnJvbSBhIHNvdXJjZSBvdGhlciB0aGFuIFBhY2lmaWMgQ291bnR5LCBiZSBhd2FyZSB0aGF0IGVsZWN0cm9uaWMgZGF0YSBjYW4gYmUgYWx0ZXJlZCBzdWJzZXF1ZW50IHRvIG9yaWdpbmFsIGRpc3RyaWJ1dGlvbi4gRGF0YSBjYW4gYWxzbyBxdWlja2x5IGJlY29tZSBvdXQtb2YtZGF0ZS4gSXQgaXMgcmVjb21tZW5kZWQgdGhhdCBjYXJlZnVsIGF0dGVudGlvbiBiZSBwYWlkIHRvIHRoZSBjb250ZW50cyBvZiBhbnkgZGF0YSBhc3NvY2lhdGVkIHdpdGggYSBmaWxlLCBhbmQgdGhhdCB0aGUgb3JpZ2luYXRvciBvZiB0aGUgZGF0YSBvciBpbmZvcm1hdGlvbiBiZSBjb250YWN0ZWQgd2l0aCBhbnkgcXVlc3Rpb25zIHJlZ2FyZGluZyBhcHByb3ByaWF0ZSB1c2UuIFlvdSBzaG91bGQgYWx3YXlzIHVzZSB0aGUgb3JpZ2luYWwgcmVjb3JkZWQgZG9jdW1lbnRzIGZvciBsZWdhbCB0cmFuc2FjdGlvbnMuDQo8L2Rpdj48YnI+DQoNCjxkaXYgc3R5bGU9Im1hcmdpbi1sZWZ0OjE1cHg7Zm9udC13ZWlnaHQ6bm9ybWFsOyI+DQpJbiBubyBldmVudCBzaGFsbCBQYWNpZmljIENvdW50eSBiZWNvbWUgbGlhYmxlIHRvIHVzZXJzIG9mIHRoaXMgZGF0YSwgb3IgYW55IG90aGVyIHBhcnR5LCBmb3IgYW55IGxvc3Mgb3IgZGFtYWdlcywgY29uc2VxdWVudGlhbCBvciBvdGhlcndpc2UsIGluY2x1ZGluZyBidXQgbm90IGxpbWl0ZWQgdG8gdGltZSwgbW9uZXksIG9yIGdvb2R3aWxsLCBhcmlzaW5nIGZyb20gdGhlIHVzZSwgbWlzdXNlLCBvcGVyYXRpb24gb3IgbW9kaWZpY2F0aW9uIG9mIHRoZSBkYXRhLiBJbiBhZGRpdGlvbiwgdGhlIGluZm9ybWF0aW9uIG9uIHRoaXMgc2VydmVyLCBvciBzaXRlLCBpcyBzdWJqZWN0IHRvIGNoYW5nZSB3aXRob3V0IG5vdGljZSBhbmQgZG9lcyBub3QgcmVwcmVzZW50IGEgY29tbWl0bWVudCBvbiB0aGUgcGFydCBvZiBQYWNpZmljIENvdW50eSBpbiB0aGUgZnV0dXJlLg0KPC9kaXY+DQo8YnI+DQo8ZGl2IHN0eWxlPSJtYXJnaW4tbGVmdDoxNXB4O2ZvbnQtd2VpZ2h0Om5vcm1hbDsiPg0KSSBoYXZlIHJlYWQsIHVuZGVyc3RhbmQgYW5kIGZ1bGx5IGFncmVlIHdpdGggdGhpcyAiRGlzY2xhaW1lciBhbmQgVGVybXMgb2YgU2VydmljZSINCjwvZGl2PmRkAgUPDxYCHg1PbkNsaWVudENsaWNrBUF3aW5kb3cubG9jYXRpb24uaHJlZj0naHR0cDovL3d3dy5jby5wYWNpZmljLndhLnVzLyc7IHJldHVybiBmYWxzZWRkZNbEkmzcG3Lb+xy9yl5JiiyfDgQm\" />\r\n",
      "\r\n",
      "<input type=\"hidden\" name=\"__EVENTVALIDATION\" id=\"__EVENTVALIDATION\" value=\"/wEWAwL4krRvAsv2+KgNApTsockB6lZ1lLyFLQ2Rd8pJpQcIptwuN70=\" />\r\n",
      "    <div id=\"main\">\r\n",
      "        <div id=\"header\">\r\n",
      "            <div id=\"logo\">\r\n",
      "                <a href='http://www.co.pacific.wa.us/' target=\"_blank\">\r\n",
      "                    <img src='/theme/imgs/Pacificlogo.jpg' style=\"border: none\" />\r\n",
      "                </a>\r\n",
      "            </div>\r\n",
      "            <div id=\"thomsonReutersLogo\">\r\n",
      "                <a href=\"http://grm.thomsonreuters.com/terrascan_t2/\" target=\"_blank\"><img id=\"ctl00_imgLogo\" title=\"Learn more about TerraScan T2 from Thomson Reuters!\" class=\"thomsonReutersLogo\" src=\"Images/ThomsonReutersLogo.png\" border=\"0\" /></a></div>\r\n",
      "            <div id=\"countyName\">\r\n",
      "                PACIFIC County</div>\r\n",
      "            <div id=\"location\">\r\n",
      "                Washington</div>\r\n",
      "            <div id=\"productName\">\r\n",
      "                TaxSifter\r\n",
      "            </div>\r\n",
      "            <div id=\"nav\">\r\n",
      "                \r\n",
      "\r\n",
      "<style type=\"text/css\">\r\n",
      ".cart_disabled\r\n",
      "{\r\n",
      "  visibility:hidden;\r\n",
      "  display:none;\r\n",
      "}\r\n",
      "</style>\r\n",
      "\r\n",
      "    <div id=\"ctl00_Navigation1_divCartLink\" class=\"navLink cart_disabled\" style=\"float:right; padding-right: 15px;\">\r\n",
      "        <img id=\"ctl00_Navigation1_Image1\" src=\"Theme/Imgs/cart.png\" border=\"0\" style=\"vertical-align:top;\" /><a id=\"ctl00_Navigation1_lnkCart\" title=\"Manage your Payment Cart\" href=\"Cart.aspx\" target=\"_self\">PAYMENT CART(0)</a>\r\n",
      "    </div>\r\n",
      "\r\n",
      "\r\n",
      "            </div>\r\n",
      "            \r\n",
      "        </div>\r\n",
      "        <div id=\"content\">\r\n",
      "            <div id=\"container\">\r\n",
      "\r\n",
      "                \r\n",
      "    <div id=\"disclaimer-container\">\r\n",
      "        <h1>\r\n",
      "            Disclaimer and Terms of Service</h1>\r\n",
      "        <div id=\"txtDisclaimer\">\r\n",
      "            <span id=\"ctl00_cphContent_lbDisclaimerText\">\r\n",
      "<head>\r\n",
      "<style>\r\n",
      "<!--\r\n",
      "div.Section1\r\n",
      "\t{page:Section1;}\r\n",
      "-->\r\n",
      "</style>\r\n",
      "</head>\r\n",
      "<div style=\"margin-left:15px;font-weight:normal;\">\r\n",
      "The information provided by Pacific County is provided 'as is' and for reference only. The user expressly agrees that the use of Pacific County's web site is at the user's sole risk. Pacific County does not warrant that the service will be uninterrupted or error free. Any information published on this server could contain technical inaccuracies or typographical errors. Changes may be made periodically to the tax laws, administrative rules, tax releases and similar materials; these changes may or may not be incorporated in any new materials on the web site.\r\n",
      "</div><br>\r\n",
      "\r\n",
      "<div style=\"margin-left:15px;font-weight:normal;\">\r\n",
      "Pacific County makes every effort to produce and publish the most current and accurate information possible. No warranties, express or implied, are provided for the data provided, its use, or its interpretation. Pacific County does not guarantee the accuracy of the material contained herein and is not responsible for any misuse or misrepresentation of this information or its derivatives.\r\n",
      "</div><br>\r\n",
      "\r\n",
      "<div style=\"margin-left:15px;font-weight:normal;\">\r\n",
      "If you have obtained information from a source other than Pacific County, be aware that electronic data can be altered subsequent to original distribution. Data can also quickly become out-of-date. It is recommended that careful attention be paid to the contents of any data associated with a file, and that the originator of the data or information be contacted with any questions regarding appropriate use. You should always use the original recorded documents for legal transactions.\r\n",
      "</div><br>\r\n",
      "\r\n",
      "<div style=\"margin-left:15px;font-weight:normal;\">\r\n",
      "In no event shall Pacific County become liable to users of this data, or any other party, for any loss or damages, consequential or otherwise, including but not limited to time, money, or goodwill, arising from the use, misuse, operation or modification of the data. In addition, the information on this server, or site, is subject to change without notice and does not represent a commitment on the part of Pacific County in the future.\r\n",
      "</div>\r\n",
      "<br>\r\n",
      "<div style=\"margin-left:15px;font-weight:normal;\">\r\n",
      "I have read, understand and fully agree with this \"Disclaimer and Terms of Service\"\r\n",
      "</div></span>\r\n",
      "        </div>\r\n",
      "        <div style=\"text-align: center; margin-top: 10px;\">\r\n",
      "            <!-- center buttons -->\r\n",
      "            <input type=\"submit\" name=\"ctl00$cphContent$btnAgree\" value=\"I Agree\" id=\"ctl00_cphContent_btnAgree\" class=\"btnGeneric btnDisclaimer\" />\r\n",
      "            <input type=\"submit\" name=\"ctl00$cphContent$btnDisagree\" value=\"I Disagree\" onclick=\"window.location.href='http://www.co.pacific.wa.us/'; return false;\" id=\"ctl00_cphContent_btnDisagree\" class=\"btnGeneric btnDisclaimer\" />\r\n",
      "        </div>\r\n",
      "    </div>\r\n",
      "\r\n",
      "    \r\n",
      "            </div>\r\n",
      "                <span id=\"ctl00_lblRollYear\" class=\"RollYear\"></span>\r\n",
      "                <div id=\"footer\">\r\n",
      "                    1.0.5642.25433\r\n",
      "                </div>\r\n",
      "        </div>\r\n",
      "    </div>\r\n",
      "    </form>\r\n",
      "</body>\r\n",
      "</html>\r\n",
      "\n"
     ]
    }
   ],
   "source": [
    "print(res.text)"
   ]
  },
  {
   "cell_type": "code",
   "execution_count": 303,
   "metadata": {},
   "outputs": [
    {
     "name": "stdout",
     "output_type": "stream",
     "text": [
      "\r\n",
      "<!DOCTYPE html PUBLIC \"-//W3C//DTD XHTML 1.0 Transitional//EN\" \"http://www.w3.org/TR/xhtml1/DTD/xhtml1-transitional.dtd\">\r\n",
      "<html xmlns=\"http://www.w3.org/1999/xhtml\">\r\n",
      "<head id=\"ctl00_Head1\"><title>\r\n",
      "\tTerraScan TaxSifter -\r\n",
      "        PACIFIC County Washington\r\n",
      "</title>\r\n",
      "    <!-- png tranparency fix -->\r\n",
      "    <!--[if lt IE 7]>\r\n",
      "        <script type=\"text/javascript\" src='/js/pngfix/unitpngfix.js'></script>\r\n",
      "    <![endif]-->\r\n",
      "    <link href=\"Theme/CSS/DynamicCSS.aspx\" rel=\"stylesheet\" type=\"text/css\" />\r\n",
      "\r\n",
      "    <script type=\"text/javascript\" src=\"http://ajax.googleapis.com/ajax/libs/jquery/1.4.2/jquery.min.js\"></script>\r\n",
      "\r\n",
      "    \r\n",
      "    <link href=\"Theme/css/Disclaimer.css\" rel=\"stylesheet\" type=\"text/css\" />\r\n",
      "    <style type=\"text/css\">\r\n",
      "        .btnDisclaimer\r\n",
      "        {\r\n",
      "            height: 40px;\r\n",
      "            line-height: 40px;\r\n",
      "            padding-left: 5px;\r\n",
      "            padding-right: 5px;\r\n",
      "            border: 0px;\r\n",
      "            color: #ffffff;\r\n",
      "            margin-left: 3px;\r\n",
      "            font-weight: bold;\r\n",
      "        }\r\n",
      "    </style>\r\n",
      "\r\n",
      "    \r\n",
      "    <style type=\"text/css\">\r\n",
      "        .RollYear\r\n",
      "        {\r\n",
      "            font-size:9px;\r\n",
      "            background-color:#fff;\r\n",
      "            color:#333;\r\n",
      "            padding-right:5px;\r\n",
      "            float:right;\r\n",
      "        }\r\n",
      "    </style>\r\n",
      "\r\n",
      "</head>\r\n",
      "<body>\r\n",
      "    <form name=\"aspnetForm\" method=\"post\" action=\"Disclaimer.aspx\" id=\"aspnetForm\">\r\n",
      "<input type=\"hidden\" name=\"__VIEWSTATE\" id=\"__VIEWSTATE\" value=\"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\" />\r\n",
      "\r\n",
      "<input type=\"hidden\" name=\"__EVENTVALIDATION\" id=\"__EVENTVALIDATION\" value=\"/wEWAwL4krRvAsv2+KgNApTsockB6lZ1lLyFLQ2Rd8pJpQcIptwuN70=\" />\r\n",
      "    <div id=\"main\">\r\n",
      "        <div id=\"header\">\r\n",
      "            <div id=\"logo\">\r\n",
      "                <a href='http://www.co.pacific.wa.us/' target=\"_blank\">\r\n",
      "                    <img src='/theme/imgs/Pacificlogo.jpg' style=\"border: none\" />\r\n",
      "                </a>\r\n",
      "            </div>\r\n",
      "            <div id=\"thomsonReutersLogo\">\r\n",
      "                <a href=\"http://grm.thomsonreuters.com/terrascan_t2/\" target=\"_blank\"><img id=\"ctl00_imgLogo\" title=\"Learn more about TerraScan T2 from Thomson Reuters!\" class=\"thomsonReutersLogo\" src=\"Images/ThomsonReutersLogo.png\" border=\"0\" /></a></div>\r\n",
      "            <div id=\"countyName\">\r\n",
      "                PACIFIC County</div>\r\n",
      "            <div id=\"location\">\r\n",
      "                Washington</div>\r\n",
      "            <div id=\"productName\">\r\n",
      "                TaxSifter\r\n",
      "            </div>\r\n",
      "            <div id=\"nav\">\r\n",
      "                \r\n",
      "\r\n",
      "<style type=\"text/css\">\r\n",
      ".cart_disabled\r\n",
      "{\r\n",
      "  visibility:hidden;\r\n",
      "  display:none;\r\n",
      "}\r\n",
      "</style>\r\n",
      "\r\n",
      "    <div id=\"ctl00_Navigation1_divCartLink\" class=\"navLink cart_disabled\" style=\"float:right; padding-right: 15px;\">\r\n",
      "        <img id=\"ctl00_Navigation1_Image1\" src=\"Theme/Imgs/cart.png\" border=\"0\" style=\"vertical-align:top;\" /><a id=\"ctl00_Navigation1_lnkCart\" title=\"Manage your Payment Cart\" href=\"Cart.aspx\" target=\"_self\">PAYMENT CART(0)</a>\r\n",
      "    </div>\r\n",
      "\r\n",
      "\r\n",
      "            </div>\r\n",
      "            \r\n",
      "        </div>\r\n",
      "        <div id=\"content\">\r\n",
      "            <div id=\"container\">\r\n",
      "\r\n",
      "                \r\n",
      "    <div id=\"disclaimer-container\">\r\n",
      "        <h1>\r\n",
      "            Disclaimer and Terms of Service</h1>\r\n",
      "        <div id=\"txtDisclaimer\">\r\n",
      "            <span id=\"ctl00_cphContent_lbDisclaimerText\">\r\n",
      "<head>\r\n",
      "<style>\r\n",
      "<!--\r\n",
      "div.Section1\r\n",
      "\t{page:Section1;}\r\n",
      "-->\r\n",
      "</style>\r\n",
      "</head>\r\n",
      "<div style=\"margin-left:15px;font-weight:normal;\">\r\n",
      "The information provided by Pacific County is provided 'as is' and for reference only. The user expressly agrees that the use of Pacific County's web site is at the user's sole risk. Pacific County does not warrant that the service will be uninterrupted or error free. Any information published on this server could contain technical inaccuracies or typographical errors. Changes may be made periodically to the tax laws, administrative rules, tax releases and similar materials; these changes may or may not be incorporated in any new materials on the web site.\r\n",
      "</div><br>\r\n",
      "\r\n",
      "<div style=\"margin-left:15px;font-weight:normal;\">\r\n",
      "Pacific County makes every effort to produce and publish the most current and accurate information possible. No warranties, express or implied, are provided for the data provided, its use, or its interpretation. Pacific County does not guarantee the accuracy of the material contained herein and is not responsible for any misuse or misrepresentation of this information or its derivatives.\r\n",
      "</div><br>\r\n",
      "\r\n",
      "<div style=\"margin-left:15px;font-weight:normal;\">\r\n",
      "If you have obtained information from a source other than Pacific County, be aware that electronic data can be altered subsequent to original distribution. Data can also quickly become out-of-date. It is recommended that careful attention be paid to the contents of any data associated with a file, and that the originator of the data or information be contacted with any questions regarding appropriate use. You should always use the original recorded documents for legal transactions.\r\n",
      "</div><br>\r\n",
      "\r\n",
      "<div style=\"margin-left:15px;font-weight:normal;\">\r\n",
      "In no event shall Pacific County become liable to users of this data, or any other party, for any loss or damages, consequential or otherwise, including but not limited to time, money, or goodwill, arising from the use, misuse, operation or modification of the data. In addition, the information on this server, or site, is subject to change without notice and does not represent a commitment on the part of Pacific County in the future.\r\n",
      "</div>\r\n",
      "<br>\r\n",
      "<div style=\"margin-left:15px;font-weight:normal;\">\r\n",
      "I have read, understand and fully agree with this \"Disclaimer and Terms of Service\"\r\n",
      "</div></span>\r\n",
      "        </div>\r\n",
      "        <div style=\"text-align: center; margin-top: 10px;\">\r\n",
      "            <!-- center buttons -->\r\n",
      "            <input type=\"submit\" name=\"ctl00$cphContent$btnAgree\" value=\"I Agree\" id=\"ctl00_cphContent_btnAgree\" class=\"btnGeneric btnDisclaimer\" />\r\n",
      "            <input type=\"submit\" name=\"ctl00$cphContent$btnDisagree\" value=\"I Disagree\" onclick=\"window.location.href='http://www.co.pacific.wa.us/'; return false;\" id=\"ctl00_cphContent_btnDisagree\" class=\"btnGeneric btnDisclaimer\" />\r\n",
      "        </div>\r\n",
      "    </div>\r\n",
      "\r\n",
      "    \r\n",
      "            </div>\r\n",
      "                <span id=\"ctl00_lblRollYear\" class=\"RollYear\"></span>\r\n",
      "                <div id=\"footer\">\r\n",
      "                    1.0.5642.25433\r\n",
      "                </div>\r\n",
      "        </div>\r\n",
      "    </div>\r\n",
      "    </form>\r\n",
      "</body>\r\n",
      "</html>\r\n",
      "\n"
     ]
    }
   ],
   "source": [
    "data = {'class' : 'btnGeneric btnDisclaimer', 'id' : 'ctl00_cphContent_btnAgree', \n",
    "        'name' : 'ctl00$cphContent$btnAgree', 'type' : 'submit', 'value' : 'I Agree'}\n",
    "response = requests.post('http://pacificwa.taxsifter.com/Search/Disclaimer.aspx', data=data)\n",
    "\n",
    "print(response.text)\n",
    "\n"
   ]
  },
  {
   "cell_type": "code",
   "execution_count": 304,
   "metadata": {
    "collapsed": true
   },
   "outputs": [],
   "source": [
    "response = requests.post('http://pacificwa.taxsifter.com/Treasurer.aspx?keyId=403141&parcelNumber=10091711044&typeID=1')"
   ]
  },
  {
   "cell_type": "code",
   "execution_count": 307,
   "metadata": {},
   "outputs": [
    {
     "name": "stdout",
     "output_type": "stream",
     "text": [
      "\r\n",
      "<!DOCTYPE html PUBLIC \"-//W3C//DTD XHTML 1.0 Transitional//EN\" \"http://www.w3.org/TR/xhtml1/DTD/xhtml1-transitional.dtd\">\r\n",
      "<html xmlns=\"http://www.w3.org/1999/xhtml\">\r\n",
      "<head id=\"ctl00_Head1\"><title>\r\n",
      "\tTerraScan TaxSifter -\r\n",
      "        PACIFIC County Washington\r\n",
      "</title>\r\n",
      "    <!-- png tranparency fix -->\r\n",
      "    <!--[if lt IE 7]>\r\n",
      "        <script type=\"text/javascript\" src='/js/pngfix/unitpngfix.js'></script>\r\n",
      "    <![endif]-->\r\n",
      "    <link href=\"Theme/CSS/DynamicCSS.aspx\" rel=\"stylesheet\" type=\"text/css\" />\r\n",
      "\r\n",
      "    <script type=\"text/javascript\" src=\"http://ajax.googleapis.com/ajax/libs/jquery/1.4.2/jquery.min.js\"></script>\r\n",
      "\r\n",
      "    \r\n",
      "    <link href=\"Theme/css/Disclaimer.css\" rel=\"stylesheet\" type=\"text/css\" />\r\n",
      "    <style type=\"text/css\">\r\n",
      "        .btnDisclaimer\r\n",
      "        {\r\n",
      "            height: 40px;\r\n",
      "            line-height: 40px;\r\n",
      "            padding-left: 5px;\r\n",
      "            padding-right: 5px;\r\n",
      "            border: 0px;\r\n",
      "            color: #ffffff;\r\n",
      "            margin-left: 3px;\r\n",
      "            font-weight: bold;\r\n",
      "        }\r\n",
      "    </style>\r\n",
      "\r\n",
      "    \r\n",
      "    <style type=\"text/css\">\r\n",
      "        .RollYear\r\n",
      "        {\r\n",
      "            font-size:9px;\r\n",
      "            background-color:#fff;\r\n",
      "            color:#333;\r\n",
      "            padding-right:5px;\r\n",
      "            float:right;\r\n",
      "        }\r\n",
      "    </style>\r\n",
      "\r\n",
      "</head>\r\n",
      "<body>\r\n",
      "    <form name=\"aspnetForm\" method=\"post\" action=\"Disclaimer.aspx\" id=\"aspnetForm\">\r\n",
      "<input type=\"hidden\" name=\"__VIEWSTATE\" id=\"__VIEWSTATE\" value=\"/wEPDwUINTA1ODUyOTQPZBYCZg9kFgICAw9kFgICAg9kFgQCAQ8PFgIeBFRleHQFxBINCjxoZWFkPg0KPHN0eWxlPg0KPCEtLQ0KZGl2LlNlY3Rpb24xDQoJe3BhZ2U6U2VjdGlvbjE7fQ0KLS0+DQo8L3N0eWxlPg0KPC9oZWFkPg0KPGRpdiBzdHlsZT0ibWFyZ2luLWxlZnQ6MTVweDtmb250LXdlaWdodDpub3JtYWw7Ij4NClRoZSBpbmZvcm1hdGlvbiBwcm92aWRlZCBieSBQYWNpZmljIENvdW50eSBpcyBwcm92aWRlZCAnYXMgaXMnIGFuZCBmb3IgcmVmZXJlbmNlIG9ubHkuIFRoZSB1c2VyIGV4cHJlc3NseSBhZ3JlZXMgdGhhdCB0aGUgdXNlIG9mIFBhY2lmaWMgQ291bnR5J3Mgd2ViIHNpdGUgaXMgYXQgdGhlIHVzZXIncyBzb2xlIHJpc2suIFBhY2lmaWMgQ291bnR5IGRvZXMgbm90IHdhcnJhbnQgdGhhdCB0aGUgc2VydmljZSB3aWxsIGJlIHVuaW50ZXJydXB0ZWQgb3IgZXJyb3IgZnJlZS4gQW55IGluZm9ybWF0aW9uIHB1Ymxpc2hlZCBvbiB0aGlzIHNlcnZlciBjb3VsZCBjb250YWluIHRlY2huaWNhbCBpbmFjY3VyYWNpZXMgb3IgdHlwb2dyYXBoaWNhbCBlcnJvcnMuIENoYW5nZXMgbWF5IGJlIG1hZGUgcGVyaW9kaWNhbGx5IHRvIHRoZSB0YXggbGF3cywgYWRtaW5pc3RyYXRpdmUgcnVsZXMsIHRheCByZWxlYXNlcyBhbmQgc2ltaWxhciBtYXRlcmlhbHM7IHRoZXNlIGNoYW5nZXMgbWF5IG9yIG1heSBub3QgYmUgaW5jb3Jwb3JhdGVkIGluIGFueSBuZXcgbWF0ZXJpYWxzIG9uIHRoZSB3ZWIgc2l0ZS4NCjwvZGl2Pjxicj4NCg0KPGRpdiBzdHlsZT0ibWFyZ2luLWxlZnQ6MTVweDtmb250LXdlaWdodDpub3JtYWw7Ij4NClBhY2lmaWMgQ291bnR5IG1ha2VzIGV2ZXJ5IGVmZm9ydCB0byBwcm9kdWNlIGFuZCBwdWJsaXNoIHRoZSBtb3N0IGN1cnJlbnQgYW5kIGFjY3VyYXRlIGluZm9ybWF0aW9uIHBvc3NpYmxlLiBObyB3YXJyYW50aWVzLCBleHByZXNzIG9yIGltcGxpZWQsIGFyZSBwcm92aWRlZCBmb3IgdGhlIGRhdGEgcHJvdmlkZWQsIGl0cyB1c2UsIG9yIGl0cyBpbnRlcnByZXRhdGlvbi4gUGFjaWZpYyBDb3VudHkgZG9lcyBub3QgZ3VhcmFudGVlIHRoZSBhY2N1cmFjeSBvZiB0aGUgbWF0ZXJpYWwgY29udGFpbmVkIGhlcmVpbiBhbmQgaXMgbm90IHJlc3BvbnNpYmxlIGZvciBhbnkgbWlzdXNlIG9yIG1pc3JlcHJlc2VudGF0aW9uIG9mIHRoaXMgaW5mb3JtYXRpb24gb3IgaXRzIGRlcml2YXRpdmVzLg0KPC9kaXY+PGJyPg0KDQo8ZGl2IHN0eWxlPSJtYXJnaW4tbGVmdDoxNXB4O2ZvbnQtd2VpZ2h0Om5vcm1hbDsiPg0KSWYgeW91IGhhdmUgb2J0YWluZWQgaW5mb3JtYXRpb24gZnJvbSBhIHNvdXJjZSBvdGhlciB0aGFuIFBhY2lmaWMgQ291bnR5LCBiZSBhd2FyZSB0aGF0IGVsZWN0cm9uaWMgZGF0YSBjYW4gYmUgYWx0ZXJlZCBzdWJzZXF1ZW50IHRvIG9yaWdpbmFsIGRpc3RyaWJ1dGlvbi4gRGF0YSBjYW4gYWxzbyBxdWlja2x5IGJlY29tZSBvdXQtb2YtZGF0ZS4gSXQgaXMgcmVjb21tZW5kZWQgdGhhdCBjYXJlZnVsIGF0dGVudGlvbiBiZSBwYWlkIHRvIHRoZSBjb250ZW50cyBvZiBhbnkgZGF0YSBhc3NvY2lhdGVkIHdpdGggYSBmaWxlLCBhbmQgdGhhdCB0aGUgb3JpZ2luYXRvciBvZiB0aGUgZGF0YSBvciBpbmZvcm1hdGlvbiBiZSBjb250YWN0ZWQgd2l0aCBhbnkgcXVlc3Rpb25zIHJlZ2FyZGluZyBhcHByb3ByaWF0ZSB1c2UuIFlvdSBzaG91bGQgYWx3YXlzIHVzZSB0aGUgb3JpZ2luYWwgcmVjb3JkZWQgZG9jdW1lbnRzIGZvciBsZWdhbCB0cmFuc2FjdGlvbnMuDQo8L2Rpdj48YnI+DQoNCjxkaXYgc3R5bGU9Im1hcmdpbi1sZWZ0OjE1cHg7Zm9udC13ZWlnaHQ6bm9ybWFsOyI+DQpJbiBubyBldmVudCBzaGFsbCBQYWNpZmljIENvdW50eSBiZWNvbWUgbGlhYmxlIHRvIHVzZXJzIG9mIHRoaXMgZGF0YSwgb3IgYW55IG90aGVyIHBhcnR5LCBmb3IgYW55IGxvc3Mgb3IgZGFtYWdlcywgY29uc2VxdWVudGlhbCBvciBvdGhlcndpc2UsIGluY2x1ZGluZyBidXQgbm90IGxpbWl0ZWQgdG8gdGltZSwgbW9uZXksIG9yIGdvb2R3aWxsLCBhcmlzaW5nIGZyb20gdGhlIHVzZSwgbWlzdXNlLCBvcGVyYXRpb24gb3IgbW9kaWZpY2F0aW9uIG9mIHRoZSBkYXRhLiBJbiBhZGRpdGlvbiwgdGhlIGluZm9ybWF0aW9uIG9uIHRoaXMgc2VydmVyLCBvciBzaXRlLCBpcyBzdWJqZWN0IHRvIGNoYW5nZSB3aXRob3V0IG5vdGljZSBhbmQgZG9lcyBub3QgcmVwcmVzZW50IGEgY29tbWl0bWVudCBvbiB0aGUgcGFydCBvZiBQYWNpZmljIENvdW50eSBpbiB0aGUgZnV0dXJlLg0KPC9kaXY+DQo8YnI+DQo8ZGl2IHN0eWxlPSJtYXJnaW4tbGVmdDoxNXB4O2ZvbnQtd2VpZ2h0Om5vcm1hbDsiPg0KSSBoYXZlIHJlYWQsIHVuZGVyc3RhbmQgYW5kIGZ1bGx5IGFncmVlIHdpdGggdGhpcyAiRGlzY2xhaW1lciBhbmQgVGVybXMgb2YgU2VydmljZSINCjwvZGl2PmRkAgUPDxYCHg1PbkNsaWVudENsaWNrBUF3aW5kb3cubG9jYXRpb24uaHJlZj0naHR0cDovL3d3dy5jby5wYWNpZmljLndhLnVzLyc7IHJldHVybiBmYWxzZWRkZNbEkmzcG3Lb+xy9yl5JiiyfDgQm\" />\r\n",
      "\r\n",
      "<input type=\"hidden\" name=\"__EVENTVALIDATION\" id=\"__EVENTVALIDATION\" value=\"/wEWAwL4krRvAsv2+KgNApTsockB6lZ1lLyFLQ2Rd8pJpQcIptwuN70=\" />\r\n",
      "    <div id=\"main\">\r\n",
      "        <div id=\"header\">\r\n",
      "            <div id=\"logo\">\r\n",
      "                <a href='http://www.co.pacific.wa.us/' target=\"_blank\">\r\n",
      "                    <img src='/theme/imgs/Pacificlogo.jpg' style=\"border: none\" />\r\n",
      "                </a>\r\n",
      "            </div>\r\n",
      "            <div id=\"thomsonReutersLogo\">\r\n",
      "                <a href=\"http://grm.thomsonreuters.com/terrascan_t2/\" target=\"_blank\"><img id=\"ctl00_imgLogo\" title=\"Learn more about TerraScan T2 from Thomson Reuters!\" class=\"thomsonReutersLogo\" src=\"Images/ThomsonReutersLogo.png\" border=\"0\" /></a></div>\r\n",
      "            <div id=\"countyName\">\r\n",
      "                PACIFIC County</div>\r\n",
      "            <div id=\"location\">\r\n",
      "                Washington</div>\r\n",
      "            <div id=\"productName\">\r\n",
      "                TaxSifter\r\n",
      "            </div>\r\n",
      "            <div id=\"nav\">\r\n",
      "                \r\n",
      "\r\n",
      "<style type=\"text/css\">\r\n",
      ".cart_disabled\r\n",
      "{\r\n",
      "  visibility:hidden;\r\n",
      "  display:none;\r\n",
      "}\r\n",
      "</style>\r\n",
      "\r\n",
      "    <div id=\"ctl00_Navigation1_divCartLink\" class=\"navLink cart_disabled\" style=\"float:right; padding-right: 15px;\">\r\n",
      "        <img id=\"ctl00_Navigation1_Image1\" src=\"Theme/Imgs/cart.png\" border=\"0\" style=\"vertical-align:top;\" /><a id=\"ctl00_Navigation1_lnkCart\" title=\"Manage your Payment Cart\" href=\"Cart.aspx\" target=\"_self\">PAYMENT CART(0)</a>\r\n",
      "    </div>\r\n",
      "\r\n",
      "\r\n",
      "            </div>\r\n",
      "            \r\n",
      "        </div>\r\n",
      "        <div id=\"content\">\r\n",
      "            <div id=\"container\">\r\n",
      "\r\n",
      "                \r\n",
      "    <div id=\"disclaimer-container\">\r\n",
      "        <h1>\r\n",
      "            Disclaimer and Terms of Service</h1>\r\n",
      "        <div id=\"txtDisclaimer\">\r\n",
      "            <span id=\"ctl00_cphContent_lbDisclaimerText\">\r\n",
      "<head>\r\n",
      "<style>\r\n",
      "<!--\r\n",
      "div.Section1\r\n",
      "\t{page:Section1;}\r\n",
      "-->\r\n",
      "</style>\r\n",
      "</head>\r\n",
      "<div style=\"margin-left:15px;font-weight:normal;\">\r\n",
      "The information provided by Pacific County is provided 'as is' and for reference only. The user expressly agrees that the use of Pacific County's web site is at the user's sole risk. Pacific County does not warrant that the service will be uninterrupted or error free. Any information published on this server could contain technical inaccuracies or typographical errors. Changes may be made periodically to the tax laws, administrative rules, tax releases and similar materials; these changes may or may not be incorporated in any new materials on the web site.\r\n",
      "</div><br>\r\n",
      "\r\n",
      "<div style=\"margin-left:15px;font-weight:normal;\">\r\n",
      "Pacific County makes every effort to produce and publish the most current and accurate information possible. No warranties, express or implied, are provided for the data provided, its use, or its interpretation. Pacific County does not guarantee the accuracy of the material contained herein and is not responsible for any misuse or misrepresentation of this information or its derivatives.\r\n",
      "</div><br>\r\n",
      "\r\n",
      "<div style=\"margin-left:15px;font-weight:normal;\">\r\n",
      "If you have obtained information from a source other than Pacific County, be aware that electronic data can be altered subsequent to original distribution. Data can also quickly become out-of-date. It is recommended that careful attention be paid to the contents of any data associated with a file, and that the originator of the data or information be contacted with any questions regarding appropriate use. You should always use the original recorded documents for legal transactions.\r\n",
      "</div><br>\r\n",
      "\r\n",
      "<div style=\"margin-left:15px;font-weight:normal;\">\r\n",
      "In no event shall Pacific County become liable to users of this data, or any other party, for any loss or damages, consequential or otherwise, including but not limited to time, money, or goodwill, arising from the use, misuse, operation or modification of the data. In addition, the information on this server, or site, is subject to change without notice and does not represent a commitment on the part of Pacific County in the future.\r\n",
      "</div>\r\n",
      "<br>\r\n",
      "<div style=\"margin-left:15px;font-weight:normal;\">\r\n",
      "I have read, understand and fully agree with this \"Disclaimer and Terms of Service\"\r\n",
      "</div></span>\r\n",
      "        </div>\r\n",
      "        <div style=\"text-align: center; margin-top: 10px;\">\r\n",
      "            <!-- center buttons -->\r\n",
      "            <input type=\"submit\" name=\"ctl00$cphContent$btnAgree\" value=\"I Agree\" id=\"ctl00_cphContent_btnAgree\" class=\"btnGeneric btnDisclaimer\" />\r\n",
      "            <input type=\"submit\" name=\"ctl00$cphContent$btnDisagree\" value=\"I Disagree\" onclick=\"window.location.href='http://www.co.pacific.wa.us/'; return false;\" id=\"ctl00_cphContent_btnDisagree\" class=\"btnGeneric btnDisclaimer\" />\r\n",
      "        </div>\r\n",
      "    </div>\r\n",
      "\r\n",
      "    \r\n",
      "            </div>\r\n",
      "                <span id=\"ctl00_lblRollYear\" class=\"RollYear\"></span>\r\n",
      "                <div id=\"footer\">\r\n",
      "                    1.0.5642.25433\r\n",
      "                </div>\r\n",
      "        </div>\r\n",
      "    </div>\r\n",
      "    </form>\r\n",
      "</body>\r\n",
      "</html>\r\n",
      "\n"
     ]
    }
   ],
   "source": [
    "print(response.text)"
   ]
  },
  {
   "cell_type": "code",
   "execution_count": 7,
   "metadata": {},
   "outputs": [],
   "source": [
    "import argparse\n",
    "import mechanicalsoup"
   ]
  },
  {
   "cell_type": "code",
   "execution_count": 8,
   "metadata": {},
   "outputs": [],
   "source": [
    "parser = argparse.ArgumentParser(description='Login to GitHub.')\n",
    "parser.add_argument(\"username\")\n",
    "parser.add_argument(\"password\")\n",
    "args = parser.parse_known_args"
   ]
  },
  {
   "cell_type": "code",
   "execution_count": 218,
   "metadata": {},
   "outputs": [
    {
     "name": "stderr",
     "output_type": "stream",
     "text": [
      "/Users/geomando/anaconda/lib/python3.5/site-packages/bs4/__init__.py:166: UserWarning: No parser was explicitly specified, so I'm using the best available HTML parser for this system (\"lxml\"). This usually isn't a problem, but if you run this code on another system, or in a different virtual environment, it may use a different parser and behave differently.\n",
      "\n",
      "To get rid of this warning, change this:\n",
      "\n",
      " BeautifulSoup([your markup])\n",
      "\n",
      "to this:\n",
      "\n",
      " BeautifulSoup([your markup], \"lxml\")\n",
      "\n",
      "  markup_type=markup_type))\n"
     ]
    }
   ],
   "source": [
    "ms_browser = mechanicalsoup.Browser()\n",
    "\n",
    "page = ms_browser.get(\"http://pacificwa.taxsifter.com/Treasurer.aspx?keyId=403141&parcelNumber=10091711044&typeID=1\")"
   ]
  },
  {
   "cell_type": "code",
   "execution_count": 219,
   "metadata": {},
   "outputs": [],
   "source": [
    "lulu = page.soup.form\n",
    "gary = lulu.find(id=\"ctl00_cphContent_btnAgree\",attrs = {\"name\": \"ctl00$cphContent$btnAgree\", \"value\":\"I Agree\"})"
   ]
  },
  {
   "cell_type": "code",
   "execution_count": 225,
   "metadata": {},
   "outputs": [],
   "source": [
    "barb = page.soup.select('input[type=\"submit\"]')[0]"
   ]
  },
  {
   "cell_type": "code",
   "execution_count": 240,
   "metadata": {},
   "outputs": [
    {
     "ename": "InvalidSchema",
     "evalue": "No connection adapters were found for '<form action=\"Disclaimer.aspx\" id=\"aspnetForm\" method=\"post\" name=\"aspnetForm\">\n<input id=\"__VIEWSTATE\" name=\"__VIEWSTATE\" type=\"hidden\" value=\"/wEPDwUINTA1ODUyOTQPZBYCZg9kFgICAw9kFgICAg9kFgQCAQ8PFgIeBFRleHQFxBINCjxoZWFkPg0KPHN0eWxlPg0KPCEtLQ0KZGl2LlNlY3Rpb24xDQoJe3BhZ2U6U2VjdGlvbjE7fQ0KLS0+DQo8L3N0eWxlPg0KPC9oZWFkPg0KPGRpdiBzdHlsZT0ibWFyZ2luLWxlZnQ6MTVweDtmb250LXdlaWdodDpub3JtYWw7Ij4NClRoZSBpbmZvcm1hdGlvbiBwcm92aWRlZCBieSBQYWNpZmljIENvdW50eSBpcyBwcm92aWRlZCAnYXMgaXMnIGFuZCBmb3IgcmVmZXJlbmNlIG9ubHkuIFRoZSB1c2VyIGV4cHJlc3NseSBhZ3JlZXMgdGhhdCB0aGUgdXNlIG9mIFBhY2lmaWMgQ291bnR5J3Mgd2ViIHNpdGUgaXMgYXQgdGhlIHVzZXIncyBzb2xlIHJpc2suIFBhY2lmaWMgQ291bnR5IGRvZXMgbm90IHdhcnJhbnQgdGhhdCB0aGUgc2VydmljZSB3aWxsIGJlIHVuaW50ZXJydXB0ZWQgb3IgZXJyb3IgZnJlZS4gQW55IGluZm9ybWF0aW9uIHB1Ymxpc2hlZCBvbiB0aGlzIHNlcnZlciBjb3VsZCBjb250YWluIHRlY2huaWNhbCBpbmFjY3VyYWNpZXMgb3IgdHlwb2dyYXBoaWNhbCBlcnJvcnMuIENoYW5nZXMgbWF5IGJlIG1hZGUgcGVyaW9kaWNhbGx5IHRvIHRoZSB0YXggbGF3cywgYWRtaW5pc3RyYXRpdmUgcnVsZXMsIHRheCByZWxlYXNlcyBhbmQgc2ltaWxhciBtYXRlcmlhbHM7IHRoZXNlIGNoYW5nZXMgbWF5IG9yIG1heSBub3QgYmUgaW5jb3Jwb3JhdGVkIGluIGFueSBuZXcgbWF0ZXJpYWxzIG9uIHRoZSB3ZWIgc2l0ZS4NCjwvZGl2Pjxicj4NCg0KPGRpdiBzdHlsZT0ibWFyZ2luLWxlZnQ6MTVweDtmb250LXdlaWdodDpub3JtYWw7Ij4NClBhY2lmaWMgQ291bnR5IG1ha2VzIGV2ZXJ5IGVmZm9ydCB0byBwcm9kdWNlIGFuZCBwdWJsaXNoIHRoZSBtb3N0IGN1cnJlbnQgYW5kIGFjY3VyYXRlIGluZm9ybWF0aW9uIHBvc3NpYmxlLiBObyB3YXJyYW50aWVzLCBleHByZXNzIG9yIGltcGxpZWQsIGFyZSBwcm92aWRlZCBmb3IgdGhlIGRhdGEgcHJvdmlkZWQsIGl0cyB1c2UsIG9yIGl0cyBpbnRlcnByZXRhdGlvbi4gUGFjaWZpYyBDb3VudHkgZG9lcyBub3QgZ3VhcmFudGVlIHRoZSBhY2N1cmFjeSBvZiB0aGUgbWF0ZXJpYWwgY29udGFpbmVkIGhlcmVpbiBhbmQgaXMgbm90IHJlc3BvbnNpYmxlIGZvciBhbnkgbWlzdXNlIG9yIG1pc3JlcHJlc2VudGF0aW9uIG9mIHRoaXMgaW5mb3JtYXRpb24gb3IgaXRzIGRlcml2YXRpdmVzLg0KPC9kaXY+PGJyPg0KDQo8ZGl2IHN0eWxlPSJtYXJnaW4tbGVmdDoxNXB4O2ZvbnQtd2VpZ2h0Om5vcm1hbDsiPg0KSWYgeW91IGhhdmUgb2J0YWluZWQgaW5mb3JtYXRpb24gZnJvbSBhIHNvdXJjZSBvdGhlciB0aGFuIFBhY2lmaWMgQ291bnR5LCBiZSBhd2FyZSB0aGF0IGVsZWN0cm9uaWMgZGF0YSBjYW4gYmUgYWx0ZXJlZCBzdWJzZXF1ZW50IHRvIG9yaWdpbmFsIGRpc3RyaWJ1dGlvbi4gRGF0YSBjYW4gYWxzbyBxdWlja2x5IGJlY29tZSBvdXQtb2YtZGF0ZS4gSXQgaXMgcmVjb21tZW5kZWQgdGhhdCBjYXJlZnVsIGF0dGVudGlvbiBiZSBwYWlkIHRvIHRoZSBjb250ZW50cyBvZiBhbnkgZGF0YSBhc3NvY2lhdGVkIHdpdGggYSBmaWxlLCBhbmQgdGhhdCB0aGUgb3JpZ2luYXRvciBvZiB0aGUgZGF0YSBvciBpbmZvcm1hdGlvbiBiZSBjb250YWN0ZWQgd2l0aCBhbnkgcXVlc3Rpb25zIHJlZ2FyZGluZyBhcHByb3ByaWF0ZSB1c2UuIFlvdSBzaG91bGQgYWx3YXlzIHVzZSB0aGUgb3JpZ2luYWwgcmVjb3JkZWQgZG9jdW1lbnRzIGZvciBsZWdhbCB0cmFuc2FjdGlvbnMuDQo8L2Rpdj48YnI+DQoNCjxkaXYgc3R5bGU9Im1hcmdpbi1sZWZ0OjE1cHg7Zm9udC13ZWlnaHQ6bm9ybWFsOyI+DQpJbiBubyBldmVudCBzaGFsbCBQYWNpZmljIENvdW50eSBiZWNvbWUgbGlhYmxlIHRvIHVzZXJzIG9mIHRoaXMgZGF0YSwgb3IgYW55IG90aGVyIHBhcnR5LCBmb3IgYW55IGxvc3Mgb3IgZGFtYWdlcywgY29uc2VxdWVudGlhbCBvciBvdGhlcndpc2UsIGluY2x1ZGluZyBidXQgbm90IGxpbWl0ZWQgdG8gdGltZSwgbW9uZXksIG9yIGdvb2R3aWxsLCBhcmlzaW5nIGZyb20gdGhlIHVzZSwgbWlzdXNlLCBvcGVyYXRpb24gb3IgbW9kaWZpY2F0aW9uIG9mIHRoZSBkYXRhLiBJbiBhZGRpdGlvbiwgdGhlIGluZm9ybWF0aW9uIG9uIHRoaXMgc2VydmVyLCBvciBzaXRlLCBpcyBzdWJqZWN0IHRvIGNoYW5nZSB3aXRob3V0IG5vdGljZSBhbmQgZG9lcyBub3QgcmVwcmVzZW50IGEgY29tbWl0bWVudCBvbiB0aGUgcGFydCBvZiBQYWNpZmljIENvdW50eSBpbiB0aGUgZnV0dXJlLg0KPC9kaXY+DQo8YnI+DQo8ZGl2IHN0eWxlPSJtYXJnaW4tbGVmdDoxNXB4O2ZvbnQtd2VpZ2h0Om5vcm1hbDsiPg0KSSBoYXZlIHJlYWQsIHVuZGVyc3RhbmQgYW5kIGZ1bGx5IGFncmVlIHdpdGggdGhpcyAiRGlzY2xhaW1lciBhbmQgVGVybXMgb2YgU2VydmljZSINCjwvZGl2PmRkAgUPDxYCHg1PbkNsaWVudENsaWNrBUF3aW5kb3cubG9jYXRpb24uaHJlZj0naHR0cDovL3d3dy5jby5wYWNpZmljLndhLnVzLyc7IHJldHVybiBmYWxzZWRkZNbEkmzcG3Lb+xy9yl5JiiyfDgQm\"/>\n<input id=\"__EVENTVALIDATION\" name=\"__EVENTVALIDATION\" type=\"hidden\" value=\"/wEWAwL4krRvAsv2+KgNApTsockB6lZ1lLyFLQ2Rd8pJpQcIptwuN70=\"/>\n<div id=\"main\">\n<div id=\"header\">\n<div id=\"logo\">\n<a href=\"http://www.co.pacific.wa.us/\" target=\"_blank\">\n<img src=\"/theme/imgs/Pacificlogo.jpg\" style=\"border: none\"/>\n</a>\n</div>\n<div id=\"thomsonReutersLogo\">\n<a href=\"http://grm.thomsonreuters.com/terrascan_t2/\" target=\"_blank\"><img border=\"0\" class=\"thomsonReutersLogo\" id=\"ctl00_imgLogo\" src=\"Images/ThomsonReutersLogo.png\" title=\"Learn more about TerraScan T2 from Thomson Reuters!\"/></a></div>\n<div id=\"countyName\">\r\n                PACIFIC County</div>\n<div id=\"location\">\r\n                Washington</div>\n<div id=\"productName\">\r\n                TaxSifter\r\n            </div>\n<div id=\"nav\">\n<style type=\"text/css\">\r\n.cart_disabled\r\n{\r\n  visibility:hidden;\r\n  display:none;\r\n}\r\n</style>\n<div class=\"navLink cart_disabled\" id=\"ctl00_Navigation1_divCartLink\" style=\"float:right; padding-right: 15px;\">\n<img border=\"0\" id=\"ctl00_Navigation1_Image1\" src=\"Theme/Imgs/cart.png\" style=\"vertical-align:top;\"/><a href=\"Cart.aspx\" id=\"ctl00_Navigation1_lnkCart\" target=\"_self\" title=\"Manage your Payment Cart\">PAYMENT CART(0)</a>\n</div>\n</div>\n</div>\n<div id=\"content\">\n<div id=\"container\">\n<div id=\"disclaimer-container\">\n<h1>\r\n            Disclaimer and Terms of Service</h1>\n<div id=\"txtDisclaimer\">\n<span id=\"ctl00_cphContent_lbDisclaimerText\">\n<style>\r\n<!--\r\ndiv.Section1\r\n\t{page:Section1;}\r\n-->\r\n</style>\n<div style=\"margin-left:15px;font-weight:normal;\">\r\nThe information provided by Pacific County is provided 'as is' and for reference only. The user expressly agrees that the use of Pacific County's web site is at the user's sole risk. Pacific County does not warrant that the service will be uninterrupted or error free. Any information published on this server could contain technical inaccuracies or typographical errors. Changes may be made periodically to the tax laws, administrative rules, tax releases and similar materials; these changes may or may not be incorporated in any new materials on the web site.\r\n</div><br/>\n<div style=\"margin-left:15px;font-weight:normal;\">\r\nPacific County makes every effort to produce and publish the most current and accurate information possible. No warranties, express or implied, are provided for the data provided, its use, or its interpretation. Pacific County does not guarantee the accuracy of the material contained herein and is not responsible for any misuse or misrepresentation of this information or its derivatives.\r\n</div><br/>\n<div style=\"margin-left:15px;font-weight:normal;\">\r\nIf you have obtained information from a source other than Pacific County, be aware that electronic data can be altered subsequent to original distribution. Data can also quickly become out-of-date. It is recommended that careful attention be paid to the contents of any data associated with a file, and that the originator of the data or information be contacted with any questions regarding appropriate use. You should always use the original recorded documents for legal transactions.\r\n</div><br/>\n<div style=\"margin-left:15px;font-weight:normal;\">\r\nIn no event shall Pacific County become liable to users of this data, or any other party, for any loss or damages, consequential or otherwise, including but not limited to time, money, or goodwill, arising from the use, misuse, operation or modification of the data. In addition, the information on this server, or site, is subject to change without notice and does not represent a commitment on the part of Pacific County in the future.\r\n</div>\n<br/>\n<div style=\"margin-left:15px;font-weight:normal;\">\r\nI have read, understand and fully agree with this \"Disclaimer and Terms of Service\"\r\n</div></span>\n</div>\n<div style=\"text-align: center; margin-top: 10px;\">\n<!-- center buttons -->\n<input class=\"btnGeneric btnDisclaimer\" id=\"ctl00_cphContent_btnAgree\" name=\"ctl00$cphContent$btnAgree\" type=\"submit\" value=\"I Agree\"/>\n<input class=\"btnGeneric btnDisclaimer\" id=\"ctl00_cphContent_btnDisagree\" name=\"ctl00$cphContent$btnDisagree\" onclick=\"window.location.href='http://www.co.pacific.wa.us/'; return false;\" type=\"submit\" value=\"I Disagree\"/>\n</div>\n</div>\n</div>\n<span class=\"RollYear\" id=\"ctl00_lblRollYear\"></span>\n<div id=\"footer\">\r\n                    1.0.5642.25433\r\n                </div>\n</div>\n</div>\n</form>'",
     "output_type": "error",
     "traceback": [
      "\u001b[0;31m---------------------------------------------------------------------------\u001b[0m",
      "\u001b[0;31mInvalidSchema\u001b[0m                             Traceback (most recent call last)",
      "\u001b[0;32m<ipython-input-240-e999cd6f3236>\u001b[0m in \u001b[0;36m<module>\u001b[0;34m()\u001b[0m\n\u001b[0;32m----> 1\u001b[0;31m \u001b[0mgastrod\u001b[0m \u001b[0;34m=\u001b[0m \u001b[0mms_browser\u001b[0m\u001b[0;34m.\u001b[0m\u001b[0mpost\u001b[0m\u001b[0;34m(\u001b[0m\u001b[0mlulu\u001b[0m\u001b[0;34m,\u001b[0m \u001b[0mpage\u001b[0m\u001b[0;34m.\u001b[0m\u001b[0murl\u001b[0m\u001b[0;34m)\u001b[0m\u001b[0;34m\u001b[0m\u001b[0m\n\u001b[0m",
      "\u001b[0;32m/Users/geomando/anaconda/lib/python3.5/site-packages/mechanicalsoup/browser.py\u001b[0m in \u001b[0;36mpost\u001b[0;34m(self, *args, **kwargs)\u001b[0m\n\u001b[1;32m     29\u001b[0m \u001b[0;34m\u001b[0m\u001b[0m\n\u001b[1;32m     30\u001b[0m     \u001b[0;32mdef\u001b[0m \u001b[0mpost\u001b[0m\u001b[0;34m(\u001b[0m\u001b[0mself\u001b[0m\u001b[0;34m,\u001b[0m \u001b[0;34m*\u001b[0m\u001b[0margs\u001b[0m\u001b[0;34m,\u001b[0m \u001b[0;34m**\u001b[0m\u001b[0mkwargs\u001b[0m\u001b[0;34m)\u001b[0m\u001b[0;34m:\u001b[0m\u001b[0;34m\u001b[0m\u001b[0m\n\u001b[0;32m---> 31\u001b[0;31m         \u001b[0mresponse\u001b[0m \u001b[0;34m=\u001b[0m \u001b[0mself\u001b[0m\u001b[0;34m.\u001b[0m\u001b[0msession\u001b[0m\u001b[0;34m.\u001b[0m\u001b[0mpost\u001b[0m\u001b[0;34m(\u001b[0m\u001b[0;34m*\u001b[0m\u001b[0margs\u001b[0m\u001b[0;34m,\u001b[0m \u001b[0;34m**\u001b[0m\u001b[0mkwargs\u001b[0m\u001b[0;34m)\u001b[0m\u001b[0;34m\u001b[0m\u001b[0m\n\u001b[0m\u001b[1;32m     32\u001b[0m         \u001b[0mBrowser\u001b[0m\u001b[0;34m.\u001b[0m\u001b[0madd_soup\u001b[0m\u001b[0;34m(\u001b[0m\u001b[0mresponse\u001b[0m\u001b[0;34m,\u001b[0m \u001b[0mself\u001b[0m\u001b[0;34m.\u001b[0m\u001b[0msoup_config\u001b[0m\u001b[0;34m)\u001b[0m\u001b[0;34m\u001b[0m\u001b[0m\n\u001b[1;32m     33\u001b[0m         \u001b[0;32mreturn\u001b[0m \u001b[0mresponse\u001b[0m\u001b[0;34m\u001b[0m\u001b[0m\n",
      "\u001b[0;32m/Users/geomando/anaconda/lib/python3.5/site-packages/requests/sessions.py\u001b[0m in \u001b[0;36mpost\u001b[0;34m(self, url, data, json, **kwargs)\u001b[0m\n\u001b[1;32m    509\u001b[0m         \"\"\"\n\u001b[1;32m    510\u001b[0m \u001b[0;34m\u001b[0m\u001b[0m\n\u001b[0;32m--> 511\u001b[0;31m         \u001b[0;32mreturn\u001b[0m \u001b[0mself\u001b[0m\u001b[0;34m.\u001b[0m\u001b[0mrequest\u001b[0m\u001b[0;34m(\u001b[0m\u001b[0;34m'POST'\u001b[0m\u001b[0;34m,\u001b[0m \u001b[0murl\u001b[0m\u001b[0;34m,\u001b[0m \u001b[0mdata\u001b[0m\u001b[0;34m=\u001b[0m\u001b[0mdata\u001b[0m\u001b[0;34m,\u001b[0m \u001b[0mjson\u001b[0m\u001b[0;34m=\u001b[0m\u001b[0mjson\u001b[0m\u001b[0;34m,\u001b[0m \u001b[0;34m**\u001b[0m\u001b[0mkwargs\u001b[0m\u001b[0;34m)\u001b[0m\u001b[0;34m\u001b[0m\u001b[0m\n\u001b[0m\u001b[1;32m    512\u001b[0m \u001b[0;34m\u001b[0m\u001b[0m\n\u001b[1;32m    513\u001b[0m     \u001b[0;32mdef\u001b[0m \u001b[0mput\u001b[0m\u001b[0;34m(\u001b[0m\u001b[0mself\u001b[0m\u001b[0;34m,\u001b[0m \u001b[0murl\u001b[0m\u001b[0;34m,\u001b[0m \u001b[0mdata\u001b[0m\u001b[0;34m=\u001b[0m\u001b[0;32mNone\u001b[0m\u001b[0;34m,\u001b[0m \u001b[0;34m**\u001b[0m\u001b[0mkwargs\u001b[0m\u001b[0;34m)\u001b[0m\u001b[0;34m:\u001b[0m\u001b[0;34m\u001b[0m\u001b[0m\n",
      "\u001b[0;32m/Users/geomando/anaconda/lib/python3.5/site-packages/requests/sessions.py\u001b[0m in \u001b[0;36mrequest\u001b[0;34m(self, method, url, params, data, headers, cookies, files, auth, timeout, allow_redirects, proxies, hooks, stream, verify, cert, json)\u001b[0m\n\u001b[1;32m    466\u001b[0m         }\n\u001b[1;32m    467\u001b[0m         \u001b[0msend_kwargs\u001b[0m\u001b[0;34m.\u001b[0m\u001b[0mupdate\u001b[0m\u001b[0;34m(\u001b[0m\u001b[0msettings\u001b[0m\u001b[0;34m)\u001b[0m\u001b[0;34m\u001b[0m\u001b[0m\n\u001b[0;32m--> 468\u001b[0;31m         \u001b[0mresp\u001b[0m \u001b[0;34m=\u001b[0m \u001b[0mself\u001b[0m\u001b[0;34m.\u001b[0m\u001b[0msend\u001b[0m\u001b[0;34m(\u001b[0m\u001b[0mprep\u001b[0m\u001b[0;34m,\u001b[0m \u001b[0;34m**\u001b[0m\u001b[0msend_kwargs\u001b[0m\u001b[0;34m)\u001b[0m\u001b[0;34m\u001b[0m\u001b[0m\n\u001b[0m\u001b[1;32m    469\u001b[0m \u001b[0;34m\u001b[0m\u001b[0m\n\u001b[1;32m    470\u001b[0m         \u001b[0;32mreturn\u001b[0m \u001b[0mresp\u001b[0m\u001b[0;34m\u001b[0m\u001b[0m\n",
      "\u001b[0;32m/Users/geomando/anaconda/lib/python3.5/site-packages/requests/sessions.py\u001b[0m in \u001b[0;36msend\u001b[0;34m(self, request, **kwargs)\u001b[0m\n\u001b[1;32m    568\u001b[0m \u001b[0;34m\u001b[0m\u001b[0m\n\u001b[1;32m    569\u001b[0m         \u001b[0;31m# Get the appropriate adapter to use\u001b[0m\u001b[0;34m\u001b[0m\u001b[0;34m\u001b[0m\u001b[0m\n\u001b[0;32m--> 570\u001b[0;31m         \u001b[0madapter\u001b[0m \u001b[0;34m=\u001b[0m \u001b[0mself\u001b[0m\u001b[0;34m.\u001b[0m\u001b[0mget_adapter\u001b[0m\u001b[0;34m(\u001b[0m\u001b[0murl\u001b[0m\u001b[0;34m=\u001b[0m\u001b[0mrequest\u001b[0m\u001b[0;34m.\u001b[0m\u001b[0murl\u001b[0m\u001b[0;34m)\u001b[0m\u001b[0;34m\u001b[0m\u001b[0m\n\u001b[0m\u001b[1;32m    571\u001b[0m \u001b[0;34m\u001b[0m\u001b[0m\n\u001b[1;32m    572\u001b[0m         \u001b[0;31m# Start time (approximately) of the request\u001b[0m\u001b[0;34m\u001b[0m\u001b[0;34m\u001b[0m\u001b[0m\n",
      "\u001b[0;32m/Users/geomando/anaconda/lib/python3.5/site-packages/requests/sessions.py\u001b[0m in \u001b[0;36mget_adapter\u001b[0;34m(self, url)\u001b[0m\n\u001b[1;32m    642\u001b[0m \u001b[0;34m\u001b[0m\u001b[0m\n\u001b[1;32m    643\u001b[0m         \u001b[0;31m# Nothing matches :-/\u001b[0m\u001b[0;34m\u001b[0m\u001b[0;34m\u001b[0m\u001b[0m\n\u001b[0;32m--> 644\u001b[0;31m         \u001b[0;32mraise\u001b[0m \u001b[0mInvalidSchema\u001b[0m\u001b[0;34m(\u001b[0m\u001b[0;34m\"No connection adapters were found for '%s'\"\u001b[0m \u001b[0;34m%\u001b[0m \u001b[0murl\u001b[0m\u001b[0;34m)\u001b[0m\u001b[0;34m\u001b[0m\u001b[0m\n\u001b[0m\u001b[1;32m    645\u001b[0m \u001b[0;34m\u001b[0m\u001b[0m\n\u001b[1;32m    646\u001b[0m     \u001b[0;32mdef\u001b[0m \u001b[0mclose\u001b[0m\u001b[0;34m(\u001b[0m\u001b[0mself\u001b[0m\u001b[0;34m)\u001b[0m\u001b[0;34m:\u001b[0m\u001b[0;34m\u001b[0m\u001b[0m\n",
      "\u001b[0;31mInvalidSchema\u001b[0m: No connection adapters were found for '<form action=\"Disclaimer.aspx\" id=\"aspnetForm\" method=\"post\" name=\"aspnetForm\">\n<input id=\"__VIEWSTATE\" name=\"__VIEWSTATE\" type=\"hidden\" value=\"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\"/>\n<input id=\"__EVENTVALIDATION\" name=\"__EVENTVALIDATION\" type=\"hidden\" value=\"/wEWAwL4krRvAsv2+KgNApTsockB6lZ1lLyFLQ2Rd8pJpQcIptwuN70=\"/>\n<div id=\"main\">\n<div id=\"header\">\n<div id=\"logo\">\n<a href=\"http://www.co.pacific.wa.us/\" target=\"_blank\">\n<img src=\"/theme/imgs/Pacificlogo.jpg\" style=\"border: none\"/>\n</a>\n</div>\n<div id=\"thomsonReutersLogo\">\n<a href=\"http://grm.thomsonreuters.com/terrascan_t2/\" target=\"_blank\"><img border=\"0\" class=\"thomsonReutersLogo\" id=\"ctl00_imgLogo\" src=\"Images/ThomsonReutersLogo.png\" title=\"Learn more about TerraScan T2 from Thomson Reuters!\"/></a></div>\n<div id=\"countyName\">\r\n                PACIFIC County</div>\n<div id=\"location\">\r\n                Washington</div>\n<div id=\"productName\">\r\n                TaxSifter\r\n            </div>\n<div id=\"nav\">\n<style type=\"text/css\">\r\n.cart_disabled\r\n{\r\n  visibility:hidden;\r\n  display:none;\r\n}\r\n</style>\n<div class=\"navLink cart_disabled\" id=\"ctl00_Navigation1_divCartLink\" style=\"float:right; padding-right: 15px;\">\n<img border=\"0\" id=\"ctl00_Navigation1_Image1\" src=\"Theme/Imgs/cart.png\" style=\"vertical-align:top;\"/><a href=\"Cart.aspx\" id=\"ctl00_Navigation1_lnkCart\" target=\"_self\" title=\"Manage your Payment Cart\">PAYMENT CART(0)</a>\n</div>\n</div>\n</div>\n<div id=\"content\">\n<div id=\"container\">\n<div id=\"disclaimer-container\">\n<h1>\r\n            Disclaimer and Terms of Service</h1>\n<div id=\"txtDisclaimer\">\n<span id=\"ctl00_cphContent_lbDisclaimerText\">\n<style>\r\n<!--\r\ndiv.Section1\r\n\t{page:Section1;}\r\n-->\r\n</style>\n<div style=\"margin-left:15px;font-weight:normal;\">\r\nThe information provided by Pacific County is provided 'as is' and for reference only. The user expressly agrees that the use of Pacific County's web site is at the user's sole risk. Pacific County does not warrant that the service will be uninterrupted or error free. Any information published on this server could contain technical inaccuracies or typographical errors. Changes may be made periodically to the tax laws, administrative rules, tax releases and similar materials; these changes may or may not be incorporated in any new materials on the web site.\r\n</div><br/>\n<div style=\"margin-left:15px;font-weight:normal;\">\r\nPacific County makes every effort to produce and publish the most current and accurate information possible. No warranties, express or implied, are provided for the data provided, its use, or its interpretation. Pacific County does not guarantee the accuracy of the material contained herein and is not responsible for any misuse or misrepresentation of this information or its derivatives.\r\n</div><br/>\n<div style=\"margin-left:15px;font-weight:normal;\">\r\nIf you have obtained information from a source other than Pacific County, be aware that electronic data can be altered subsequent to original distribution. Data can also quickly become out-of-date. It is recommended that careful attention be paid to the contents of any data associated with a file, and that the originator of the data or information be contacted with any questions regarding appropriate use. You should always use the original recorded documents for legal transactions.\r\n</div><br/>\n<div style=\"margin-left:15px;font-weight:normal;\">\r\nIn no event shall Pacific County become liable to users of this data, or any other party, for any loss or damages, consequential or otherwise, including but not limited to time, money, or goodwill, arising from the use, misuse, operation or modification of the data. In addition, the information on this server, or site, is subject to change without notice and does not represent a commitment on the part of Pacific County in the future.\r\n</div>\n<br/>\n<div style=\"margin-left:15px;font-weight:normal;\">\r\nI have read, understand and fully agree with this \"Disclaimer and Terms of Service\"\r\n</div></span>\n</div>\n<div style=\"text-align: center; margin-top: 10px;\">\n<!-- center buttons -->\n<input class=\"btnGeneric btnDisclaimer\" id=\"ctl00_cphContent_btnAgree\" name=\"ctl00$cphContent$btnAgree\" type=\"submit\" value=\"I Agree\"/>\n<input class=\"btnGeneric btnDisclaimer\" id=\"ctl00_cphContent_btnDisagree\" name=\"ctl00$cphContent$btnDisagree\" onclick=\"window.location.href='http://www.co.pacific.wa.us/'; return false;\" type=\"submit\" value=\"I Disagree\"/>\n</div>\n</div>\n</div>\n<span class=\"RollYear\" id=\"ctl00_lblRollYear\"></span>\n<div id=\"footer\">\r\n                    1.0.5642.25433\r\n                </div>\n</div>\n</div>\n</form>'"
     ]
    }
   ],
   "source": [
    "ms_browser."
   ]
  },
  {
   "cell_type": "code",
   "execution_count": 231,
   "metadata": {},
   "outputs": [
    {
     "name": "stderr",
     "output_type": "stream",
     "text": [
      "/Users/geomando/anaconda/lib/python3.5/site-packages/bs4/__init__.py:166: UserWarning: No parser was explicitly specified, so I'm using the best available HTML parser for this system (\"lxml\"). This usually isn't a problem, but if you run this code on another system, or in a different virtual environment, it may use a different parser and behave differently.\n",
      "\n",
      "To get rid of this warning, change this:\n",
      "\n",
      " BeautifulSoup([your markup])\n",
      "\n",
      "to this:\n",
      "\n",
      " BeautifulSoup([your markup], \"lxml\")\n",
      "\n",
      "  markup_type=markup_type))\n"
     ]
    }
   ],
   "source": [
    "response = ms_browser.submit(gary, page.url)"
   ]
  },
  {
   "cell_type": "code",
   "execution_count": 232,
   "metadata": {
    "scrolled": true
   },
   "outputs": [
    {
     "data": {
      "text/plain": [
       "b'\\r\\n<!DOCTYPE html PUBLIC \"-//W3C//DTD XHTML 1.0 Transitional//EN\" \"http://www.w3.org/TR/xhtml1/DTD/xhtml1-transitional.dtd\">\\r\\n<html xmlns=\"http://www.w3.org/1999/xhtml\">\\r\\n<head id=\"ctl00_Head1\"><title>\\r\\n\\tTerraScan TaxSifter -\\r\\n        PACIFIC County Washington\\r\\n</title>\\r\\n    <!-- png tranparency fix -->\\r\\n    <!--[if lt IE 7]>\\r\\n        <script type=\"text/javascript\" src=\\'/js/pngfix/unitpngfix.js\\'></script>\\r\\n    <![endif]-->\\r\\n    <link href=\"Theme/CSS/DynamicCSS.aspx\" rel=\"stylesheet\" type=\"text/css\" />\\r\\n\\r\\n    <script type=\"text/javascript\" src=\"http://ajax.googleapis.com/ajax/libs/jquery/1.4.2/jquery.min.js\"></script>\\r\\n\\r\\n    \\r\\n    <link href=\"Theme/css/Disclaimer.css\" rel=\"stylesheet\" type=\"text/css\" />\\r\\n    <style type=\"text/css\">\\r\\n        .btnDisclaimer\\r\\n        {\\r\\n            height: 40px;\\r\\n            line-height: 40px;\\r\\n            padding-left: 5px;\\r\\n            padding-right: 5px;\\r\\n            border: 0px;\\r\\n            color: #ffffff;\\r\\n            margin-left: 3px;\\r\\n            font-weight: bold;\\r\\n        }\\r\\n    </style>\\r\\n\\r\\n    \\r\\n    <style type=\"text/css\">\\r\\n        .RollYear\\r\\n        {\\r\\n            font-size:9px;\\r\\n            background-color:#fff;\\r\\n            color:#333;\\r\\n            padding-right:5px;\\r\\n            float:right;\\r\\n        }\\r\\n    </style>\\r\\n\\r\\n</head>\\r\\n<body>\\r\\n    <form name=\"aspnetForm\" method=\"post\" action=\"Disclaimer.aspx\" id=\"aspnetForm\">\\r\\n<input type=\"hidden\" name=\"__VIEWSTATE\" id=\"__VIEWSTATE\" value=\"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\" />\\r\\n\\r\\n<input type=\"hidden\" name=\"__EVENTVALIDATION\" id=\"__EVENTVALIDATION\" value=\"/wEWAwL4krRvAsv2+KgNApTsockB6lZ1lLyFLQ2Rd8pJpQcIptwuN70=\" />\\r\\n    <div id=\"main\">\\r\\n        <div id=\"header\">\\r\\n            <div id=\"logo\">\\r\\n                <a href=\\'http://www.co.pacific.wa.us/\\' target=\"_blank\">\\r\\n                    <img src=\\'/theme/imgs/Pacificlogo.jpg\\' style=\"border: none\" />\\r\\n                </a>\\r\\n            </div>\\r\\n            <div id=\"thomsonReutersLogo\">\\r\\n                <a href=\"http://grm.thomsonreuters.com/terrascan_t2/\" target=\"_blank\"><img id=\"ctl00_imgLogo\" title=\"Learn more about TerraScan T2 from Thomson Reuters!\" class=\"thomsonReutersLogo\" src=\"Images/ThomsonReutersLogo.png\" border=\"0\" /></a></div>\\r\\n            <div id=\"countyName\">\\r\\n                PACIFIC County</div>\\r\\n            <div id=\"location\">\\r\\n                Washington</div>\\r\\n            <div id=\"productName\">\\r\\n                TaxSifter\\r\\n            </div>\\r\\n            <div id=\"nav\">\\r\\n                \\r\\n\\r\\n<style type=\"text/css\">\\r\\n.cart_disabled\\r\\n{\\r\\n  visibility:hidden;\\r\\n  display:none;\\r\\n}\\r\\n</style>\\r\\n\\r\\n    <div id=\"ctl00_Navigation1_divCartLink\" class=\"navLink cart_disabled\" style=\"float:right; padding-right: 15px;\">\\r\\n        <img id=\"ctl00_Navigation1_Image1\" src=\"Theme/Imgs/cart.png\" border=\"0\" style=\"vertical-align:top;\" /><a id=\"ctl00_Navigation1_lnkCart\" title=\"Manage your Payment Cart\" href=\"Cart.aspx\" target=\"_self\">PAYMENT CART(0)</a>\\r\\n    </div>\\r\\n\\r\\n\\r\\n            </div>\\r\\n            \\r\\n        </div>\\r\\n        <div id=\"content\">\\r\\n            <div id=\"container\">\\r\\n\\r\\n                \\r\\n    <div id=\"disclaimer-container\">\\r\\n        <h1>\\r\\n            Disclaimer and Terms of Service</h1>\\r\\n        <div id=\"txtDisclaimer\">\\r\\n            <span id=\"ctl00_cphContent_lbDisclaimerText\">\\r\\n<head>\\r\\n<style>\\r\\n<!--\\r\\ndiv.Section1\\r\\n\\t{page:Section1;}\\r\\n-->\\r\\n</style>\\r\\n</head>\\r\\n<div style=\"margin-left:15px;font-weight:normal;\">\\r\\nThe information provided by Pacific County is provided \\'as is\\' and for reference only. The user expressly agrees that the use of Pacific County\\'s web site is at the user\\'s sole risk. Pacific County does not warrant that the service will be uninterrupted or error free. Any information published on this server could contain technical inaccuracies or typographical errors. Changes may be made periodically to the tax laws, administrative rules, tax releases and similar materials; these changes may or may not be incorporated in any new materials on the web site.\\r\\n</div><br>\\r\\n\\r\\n<div style=\"margin-left:15px;font-weight:normal;\">\\r\\nPacific County makes every effort to produce and publish the most current and accurate information possible. No warranties, express or implied, are provided for the data provided, its use, or its interpretation. Pacific County does not guarantee the accuracy of the material contained herein and is not responsible for any misuse or misrepresentation of this information or its derivatives.\\r\\n</div><br>\\r\\n\\r\\n<div style=\"margin-left:15px;font-weight:normal;\">\\r\\nIf you have obtained information from a source other than Pacific County, be aware that electronic data can be altered subsequent to original distribution. Data can also quickly become out-of-date. It is recommended that careful attention be paid to the contents of any data associated with a file, and that the originator of the data or information be contacted with any questions regarding appropriate use. You should always use the original recorded documents for legal transactions.\\r\\n</div><br>\\r\\n\\r\\n<div style=\"margin-left:15px;font-weight:normal;\">\\r\\nIn no event shall Pacific County become liable to users of this data, or any other party, for any loss or damages, consequential or otherwise, including but not limited to time, money, or goodwill, arising from the use, misuse, operation or modification of the data. In addition, the information on this server, or site, is subject to change without notice and does not represent a commitment on the part of Pacific County in the future.\\r\\n</div>\\r\\n<br>\\r\\n<div style=\"margin-left:15px;font-weight:normal;\">\\r\\nI have read, understand and fully agree with this \"Disclaimer and Terms of Service\"\\r\\n</div></span>\\r\\n        </div>\\r\\n        <div style=\"text-align: center; margin-top: 10px;\">\\r\\n            <!-- center buttons -->\\r\\n            <input type=\"submit\" name=\"ctl00$cphContent$btnAgree\" value=\"I Agree\" id=\"ctl00_cphContent_btnAgree\" class=\"btnGeneric btnDisclaimer\" />\\r\\n            <input type=\"submit\" name=\"ctl00$cphContent$btnDisagree\" value=\"I Disagree\" onclick=\"window.location.href=\\'http://www.co.pacific.wa.us/\\'; return false;\" id=\"ctl00_cphContent_btnDisagree\" class=\"btnGeneric btnDisclaimer\" />\\r\\n        </div>\\r\\n    </div>\\r\\n\\r\\n    \\r\\n            </div>\\r\\n                <span id=\"ctl00_lblRollYear\" class=\"RollYear\"></span>\\r\\n                <div id=\"footer\">\\r\\n                    1.0.5642.25433\\r\\n                </div>\\r\\n        </div>\\r\\n    </div>\\r\\n    </form>\\r\\n</body>\\r\\n</html>\\r\\n'"
      ]
     },
     "execution_count": 232,
     "metadata": {},
     "output_type": "execute_result"
    }
   ],
   "source": [
    "response.content"
   ]
  },
  {
   "cell_type": "code",
   "execution_count": 233,
   "metadata": {},
   "outputs": [
    {
     "data": {
      "text/plain": [
       "[]"
      ]
     },
     "execution_count": 233,
     "metadata": {},
     "output_type": "execute_result"
    }
   ],
   "source": [
    "login_page.soup.select(\"btnGeneric btnDisclaimer\")"
   ]
  },
  {
   "cell_type": "code",
   "execution_count": 234,
   "metadata": {},
   "outputs": [
    {
     "data": {
      "text/plain": [
       "<input class=\"btnGeneric btnDisclaimer\" id=\"ctl00_cphContent_btnAgree\" name=\"ctl00$cphContent$btnAgree\" type=\"submit\" value=\"I Agree\"/>"
      ]
     },
     "execution_count": 234,
     "metadata": {},
     "output_type": "execute_result"
    }
   ],
   "source": [
    "i_agree = login_page.soup.find(id=\"ctl00_cphContent_btnAgree\")\n",
    "i_agree"
   ]
  },
  {
   "cell_type": "code",
   "execution_count": 235,
   "metadata": {
    "scrolled": true
   },
   "outputs": [
    {
     "ename": "AttributeError",
     "evalue": "'Browser' object has no attribute 'get_forms'",
     "output_type": "error",
     "traceback": [
      "\u001b[0;31m---------------------------------------------------------------------------\u001b[0m",
      "\u001b[0;31mAttributeError\u001b[0m                            Traceback (most recent call last)",
      "\u001b[0;32m<ipython-input-235-86c244c5beea>\u001b[0m in \u001b[0;36m<module>\u001b[0;34m()\u001b[0m\n\u001b[0;32m----> 1\u001b[0;31m \u001b[0mlarry\u001b[0m \u001b[0;34m=\u001b[0m \u001b[0mms_browser\u001b[0m\u001b[0;34m.\u001b[0m\u001b[0mget_forms\u001b[0m\u001b[0;34m(\u001b[0m\u001b[0;34m)\u001b[0m\u001b[0;34m[\u001b[0m\u001b[0;36m0\u001b[0m\u001b[0;34m]\u001b[0m\u001b[0;34m\u001b[0m\u001b[0m\n\u001b[0m\u001b[1;32m      2\u001b[0m \u001b[0msue\u001b[0m \u001b[0;34m=\u001b[0m \u001b[0mlarry\u001b[0m\u001b[0;34m.\u001b[0m\u001b[0mfields\u001b[0m\u001b[0;34m[\u001b[0m\u001b[0;34m'ctl00$cphContent$btnAgree'\u001b[0m\u001b[0;34m]\u001b[0m\u001b[0;34m\u001b[0m\u001b[0m\n\u001b[1;32m      3\u001b[0m \u001b[0mms_browser\u001b[0m\u001b[0;34m.\u001b[0m\u001b[0mpost\u001b[0m\u001b[0;34m(\u001b[0m\u001b[0msue\u001b[0m\u001b[0;34m)\u001b[0m\u001b[0;34m\u001b[0m\u001b[0m\n",
      "\u001b[0;31mAttributeError\u001b[0m: 'Browser' object has no attribute 'get_forms'"
     ]
    }
   ],
   "source": []
  },
  {
   "cell_type": "code",
   "execution_count": 214,
   "metadata": {},
   "outputs": [],
   "source": [
    "grg = larry.submit_fields['ctl00$cphContent$btnAgree']\n"
   ]
  },
  {
   "cell_type": "code",
   "execution_count": 216,
   "metadata": {},
   "outputs": [
    {
     "data": {
      "text/plain": [
       "'I Agree'"
      ]
     },
     "execution_count": 216,
     "metadata": {},
     "output_type": "execute_result"
    }
   ],
   "source": [
    "sue.value"
   ]
  },
  {
   "cell_type": "code",
   "execution_count": null,
   "metadata": {
    "collapsed": true
   },
   "outputs": [],
   "source": [
    "# login_page.soup is a BeautifulSoup object http://www.crummy.com/software/BeautifulSoup/bs4/doc/#beautifulsoup \n",
    "# we grab the login form\n",
    "login_form = login_page.soup.select(\"#login\")[0].select(\"form\")[0]\n",
    "\n",
    "# specify username and password\n",
    "login_form.select(\"#login_field\")[0]['value'] = args.username\n",
    "login_form.select(\"#password\")[0]['value'] = args.password\n",
    "\n",
    "# (or alternatively)\n",
    "# login_form.input({\"login\": args.username, \"password\": args.password})\n",
    "\n",
    "# submit form\n",
    "page2 = browser.submit(login_form, login_page.url)\n",
    "\n",
    "# verify we are now logged in\n",
    "messages = page2.soup.find('div', class_='flash-messages')\n",
    "if messages:\n",
    "    print(messages.text)\n",
    "assert page2.soup.select(\".logout-form\")\n",
    "\n",
    "print(page2.soup.title.text)\n",
    "\n",
    "# verify we remain logged in (thanks to cookies) as we browse the rest of the site\n",
    "page3 = browser.get(\"https://github.com/hickford/MechanicalSoup\")\n",
    "assert page3.soup.select(\".logout-form\")"
   ]
  },
  {
   "cell_type": "code",
   "execution_count": 241,
   "metadata": {
    "collapsed": true
   },
   "outputs": [],
   "source": [
    "import re\n",
    "from robobrowser import RoboBrowser\n",
    "\n",
    "# Browse to Genius\n",
    "browser = RoboBrowser(history=True)\n",
    "browser.open(url)"
   ]
  },
  {
   "cell_type": "code",
   "execution_count": 242,
   "metadata": {},
   "outputs": [
    {
     "name": "stderr",
     "output_type": "stream",
     "text": [
      "/Users/geomando/anaconda/lib/python3.5/site-packages/bs4/__init__.py:166: UserWarning: No parser was explicitly specified, so I'm using the best available HTML parser for this system (\"lxml\"). This usually isn't a problem, but if you run this code on another system, or in a different virtual environment, it may use a different parser and behave differently.\n",
      "\n",
      "To get rid of this warning, change this:\n",
      "\n",
      " BeautifulSoup([your markup])\n",
      "\n",
      "to this:\n",
      "\n",
      " BeautifulSoup([your markup], \"lxml\")\n",
      "\n",
      "  markup_type=markup_type))\n"
     ]
    },
    {
     "data": {
      "text/plain": [
       "<input class=\"btnGeneric btnDisclaimer\" id=\"ctl00_cphContent_btnAgree\" name=\"ctl00$cphContent$btnAgree\" type=\"submit\" value=\"I Agree\"/>"
      ]
     },
     "execution_count": 242,
     "metadata": {},
     "output_type": "execute_result"
    }
   ],
   "source": [
    "bob = browser.find(id=\"ctl00_cphContent_btnAgree\")\n",
    "bob"
   ]
  },
  {
   "cell_type": "code",
   "execution_count": 272,
   "metadata": {},
   "outputs": [],
   "source": [
    "larry = browser.get_forms()[0]\n",
    "siff = larry.submit_fields['ctl00$cphContent$btnAgree']"
   ]
  },
  {
   "cell_type": "code",
   "execution_count": 278,
   "metadata": {},
   "outputs": [],
   "source": [
    "siff.value = 'I Agree'"
   ]
  },
  {
   "cell_type": "code",
   "execution_count": 281,
   "metadata": {},
   "outputs": [
    {
     "data": {
      "text/plain": [
       "'Disclaimer.aspx'"
      ]
     },
     "execution_count": 281,
     "metadata": {},
     "output_type": "execute_result"
    }
   ],
   "source": [
    "larry.action"
   ]
  },
  {
   "cell_type": "code",
   "execution_count": 248,
   "metadata": {},
   "outputs": [
    {
     "ename": "AttributeError",
     "evalue": "'str' object has no attribute 'name'",
     "output_type": "error",
     "traceback": [
      "\u001b[0;31m---------------------------------------------------------------------------\u001b[0m",
      "\u001b[0;31mAttributeError\u001b[0m                            Traceback (most recent call last)",
      "\u001b[0;32m<ipython-input-248-74e805be50ef>\u001b[0m in \u001b[0;36m<module>\u001b[0;34m()\u001b[0m\n\u001b[0;32m----> 1\u001b[0;31m \u001b[0mbrowser\u001b[0m\u001b[0;34m.\u001b[0m\u001b[0msubmit_form\u001b[0m\u001b[0;34m(\u001b[0m\u001b[0mlarry\u001b[0m\u001b[0;34m,\u001b[0m \u001b[0msubmit\u001b[0m\u001b[0;34m=\u001b[0m\u001b[0mlarry\u001b[0m\u001b[0;34m[\u001b[0m\u001b[0;34m'ctl00$cphContent$btnAgree'\u001b[0m\u001b[0;34m]\u001b[0m\u001b[0;34m.\u001b[0m\u001b[0mvalue\u001b[0m\u001b[0;34m)\u001b[0m\u001b[0;34m\u001b[0m\u001b[0m\n\u001b[0m",
      "\u001b[0;32m/Users/geomando/anaconda/lib/python3.5/site-packages/robobrowser/browser.py\u001b[0m in \u001b[0;36msubmit_form\u001b[0;34m(self, form, submit, **kwargs)\u001b[0m\n\u001b[1;32m    337\u001b[0m         \u001b[0;31m# Send request\u001b[0m\u001b[0;34m\u001b[0m\u001b[0;34m\u001b[0m\u001b[0m\n\u001b[1;32m    338\u001b[0m         \u001b[0murl\u001b[0m \u001b[0;34m=\u001b[0m \u001b[0mself\u001b[0m\u001b[0;34m.\u001b[0m\u001b[0m_build_url\u001b[0m\u001b[0;34m(\u001b[0m\u001b[0mform\u001b[0m\u001b[0;34m.\u001b[0m\u001b[0maction\u001b[0m\u001b[0;34m)\u001b[0m \u001b[0;32mor\u001b[0m \u001b[0mself\u001b[0m\u001b[0;34m.\u001b[0m\u001b[0murl\u001b[0m\u001b[0;34m\u001b[0m\u001b[0m\n\u001b[0;32m--> 339\u001b[0;31m         \u001b[0mpayload\u001b[0m \u001b[0;34m=\u001b[0m \u001b[0mform\u001b[0m\u001b[0;34m.\u001b[0m\u001b[0mserialize\u001b[0m\u001b[0;34m(\u001b[0m\u001b[0msubmit\u001b[0m\u001b[0;34m=\u001b[0m\u001b[0msubmit\u001b[0m\u001b[0;34m)\u001b[0m\u001b[0;34m\u001b[0m\u001b[0m\n\u001b[0m\u001b[1;32m    340\u001b[0m         \u001b[0mserialized\u001b[0m \u001b[0;34m=\u001b[0m \u001b[0mpayload\u001b[0m\u001b[0;34m.\u001b[0m\u001b[0mto_requests\u001b[0m\u001b[0;34m(\u001b[0m\u001b[0mmethod\u001b[0m\u001b[0;34m)\u001b[0m\u001b[0;34m\u001b[0m\u001b[0m\n\u001b[1;32m    341\u001b[0m         \u001b[0msend_args\u001b[0m \u001b[0;34m=\u001b[0m \u001b[0mself\u001b[0m\u001b[0;34m.\u001b[0m\u001b[0m_build_send_args\u001b[0m\u001b[0;34m(\u001b[0m\u001b[0;34m**\u001b[0m\u001b[0mkwargs\u001b[0m\u001b[0;34m)\u001b[0m\u001b[0;34m\u001b[0m\u001b[0m\n",
      "\u001b[0;32m/Users/geomando/anaconda/lib/python3.5/site-packages/robobrowser/forms/form.py\u001b[0m in \u001b[0;36mserialize\u001b[0;34m(self, submit)\u001b[0m\n\u001b[1;32m    224\u001b[0m \u001b[0;34m\u001b[0m\u001b[0m\n\u001b[1;32m    225\u001b[0m         \"\"\"\n\u001b[0;32m--> 226\u001b[0;31m         \u001b[0minclude_fields\u001b[0m \u001b[0;34m=\u001b[0m \u001b[0mprepare_fields\u001b[0m\u001b[0;34m(\u001b[0m\u001b[0mself\u001b[0m\u001b[0;34m.\u001b[0m\u001b[0mfields\u001b[0m\u001b[0;34m,\u001b[0m \u001b[0mself\u001b[0m\u001b[0;34m.\u001b[0m\u001b[0msubmit_fields\u001b[0m\u001b[0;34m,\u001b[0m \u001b[0msubmit\u001b[0m\u001b[0;34m)\u001b[0m\u001b[0;34m\u001b[0m\u001b[0m\n\u001b[0m\u001b[1;32m    227\u001b[0m         \u001b[0;32mreturn\u001b[0m \u001b[0mPayload\u001b[0m\u001b[0;34m.\u001b[0m\u001b[0mfrom_fields\u001b[0m\u001b[0;34m(\u001b[0m\u001b[0minclude_fields\u001b[0m\u001b[0;34m)\u001b[0m\u001b[0;34m\u001b[0m\u001b[0m\n",
      "\u001b[0;32m/Users/geomando/anaconda/lib/python3.5/site-packages/robobrowser/forms/form.py\u001b[0m in \u001b[0;36mprepare_fields\u001b[0;34m(all_fields, submit_fields, submit)\u001b[0m\n\u001b[1;32m    153\u001b[0m         \u001b[0;32mif\u001b[0m \u001b[0;32mnot\u001b[0m \u001b[0msubmit\u001b[0m\u001b[0;34m:\u001b[0m\u001b[0;34m\u001b[0m\u001b[0m\n\u001b[1;32m    154\u001b[0m             \u001b[0;32mraise\u001b[0m \u001b[0mexceptions\u001b[0m\u001b[0;34m.\u001b[0m\u001b[0mInvalidSubmitError\u001b[0m\u001b[0;34m(\u001b[0m\u001b[0;34m)\u001b[0m\u001b[0;34m\u001b[0m\u001b[0m\n\u001b[0;32m--> 155\u001b[0;31m         \u001b[0;32mif\u001b[0m \u001b[0msubmit\u001b[0m \u001b[0;32mnot\u001b[0m \u001b[0;32min\u001b[0m \u001b[0msubmit_fields\u001b[0m\u001b[0;34m.\u001b[0m\u001b[0mgetlist\u001b[0m\u001b[0;34m(\u001b[0m\u001b[0msubmit\u001b[0m\u001b[0;34m.\u001b[0m\u001b[0mname\u001b[0m\u001b[0;34m)\u001b[0m\u001b[0;34m:\u001b[0m\u001b[0;34m\u001b[0m\u001b[0m\n\u001b[0m\u001b[1;32m    156\u001b[0m             \u001b[0;32mraise\u001b[0m \u001b[0mexceptions\u001b[0m\u001b[0;34m.\u001b[0m\u001b[0mInvalidSubmitError\u001b[0m\u001b[0;34m(\u001b[0m\u001b[0;34m)\u001b[0m\u001b[0;34m\u001b[0m\u001b[0m\n\u001b[1;32m    157\u001b[0m         return _filter_fields(\n",
      "\u001b[0;31mAttributeError\u001b[0m: 'str' object has no attribute 'name'"
     ]
    }
   ],
   "source": [
    "browser.submit_form(larry, submit=larry['ctl00$cphContent$btnAgree'].value)"
   ]
  },
  {
   "cell_type": "code",
   "execution_count": 13,
   "metadata": {},
   "outputs": [
    {
     "name": "stderr",
     "output_type": "stream",
     "text": [
      "/Users/geomando/anaconda/lib/python3.5/site-packages/bs4/__init__.py:166: UserWarning: No parser was explicitly specified, so I'm using the best available HTML parser for this system (\"lxml\"). This usually isn't a problem, but if you run this code on another system, or in a different virtual environment, it may use a different parser and behave differently.\n",
      "\n",
      "To get rid of this warning, change this:\n",
      "\n",
      " BeautifulSoup([your markup])\n",
      "\n",
      "to this:\n",
      "\n",
      " BeautifulSoup([your markup], \"lxml\")\n",
      "\n",
      "  markup_type=markup_type))\n"
     ]
    },
    {
     "ename": "TypeError",
     "evalue": "'NoneType' object is not subscriptable",
     "output_type": "error",
     "traceback": [
      "\u001b[0;31m---------------------------------------------------------------------------\u001b[0m",
      "\u001b[0;31mTypeError\u001b[0m                                 Traceback (most recent call last)",
      "\u001b[0;32m<ipython-input-13-9063543f6e0f>\u001b[0m in \u001b[0;36m<module>\u001b[0;34m()\u001b[0m\n\u001b[1;32m      9\u001b[0m \u001b[0mform\u001b[0m \u001b[0;34m=\u001b[0m \u001b[0mbrowser\u001b[0m\u001b[0;34m.\u001b[0m\u001b[0mget_form\u001b[0m\u001b[0;34m(\u001b[0m\u001b[0maction\u001b[0m\u001b[0;34m=\u001b[0m\u001b[0;34m'/search'\u001b[0m\u001b[0;34m)\u001b[0m\u001b[0;34m\u001b[0m\u001b[0m\n\u001b[1;32m     10\u001b[0m \u001b[0mform\u001b[0m                \u001b[0;31m# <RoboForm q=>\u001b[0m\u001b[0;34m\u001b[0m\u001b[0m\n\u001b[0;32m---> 11\u001b[0;31m \u001b[0mform\u001b[0m\u001b[0;34m[\u001b[0m\u001b[0;34m'q'\u001b[0m\u001b[0;34m]\u001b[0m\u001b[0;34m.\u001b[0m\u001b[0mvalue\u001b[0m \u001b[0;34m=\u001b[0m \u001b[0;34m'porcupine tree'\u001b[0m\u001b[0;34m\u001b[0m\u001b[0m\n\u001b[0m\u001b[1;32m     12\u001b[0m \u001b[0mbrowser\u001b[0m\u001b[0;34m.\u001b[0m\u001b[0msubmit_form\u001b[0m\u001b[0;34m(\u001b[0m\u001b[0mform\u001b[0m\u001b[0;34m)\u001b[0m\u001b[0;34m\u001b[0m\u001b[0m\n\u001b[1;32m     13\u001b[0m \u001b[0;34m\u001b[0m\u001b[0m\n",
      "\u001b[0;31mTypeError\u001b[0m: 'NoneType' object is not subscriptable"
     ]
    }
   ],
   "source": [
    "# Search for Porcupine Tree\n",
    "form = browser.get_form(action='/search')\n",
    "form                # <RoboForm q=>\n",
    "form['q'].value = 'porcupine tree'\n",
    "browser.submit_form(form)\n",
    "\n",
    "# Look up the first song\n",
    "songs = browser.select('.song_link')\n",
    "browser.follow_link(songs[0])\n",
    "lyrics = browser.select('.lyrics')\n",
    "lyrics[0].text      # \\nHear the sound of music ...\n",
    "\n",
    "# Back to results page\n",
    "browser.back()\n",
    "\n",
    "# Look up my favorite song\n",
    "song_link = browser.get_link('trains')\n",
    "browser.follow_link(song_link)\n",
    "\n",
    "# Can also search HTML using regex patterns\n",
    "lyrics = browser.find(class_=re.compile(r'\\blyrics\\b'))\n",
    "lyrics.text         # \\nTrain set and match spied under the blind..."
   ]
  },
  {
   "cell_type": "code",
   "execution_count": 333,
   "metadata": {
    "scrolled": true
   },
   "outputs": [
    {
     "ename": "TypeError",
     "evalue": "session() takes 0 positional arguments but 1 was given",
     "output_type": "error",
     "traceback": [
      "\u001b[0;31m---------------------------------------------------------------------------\u001b[0m",
      "\u001b[0;31mTypeError\u001b[0m                                 Traceback (most recent call last)",
      "\u001b[0;32m<ipython-input-333-2b58728889e4>\u001b[0m in \u001b[0;36m<module>\u001b[0;34m()\u001b[0m\n\u001b[1;32m      1\u001b[0m \u001b[0;31m# url = 'https://duckduckgo.com/html/'\u001b[0m\u001b[0;34m\u001b[0m\u001b[0;34m\u001b[0m\u001b[0m\n\u001b[1;32m      2\u001b[0m \u001b[0mpayload\u001b[0m \u001b[0;34m=\u001b[0m \u001b[0;34m{\u001b[0m\u001b[0;34m\"type\"\u001b[0m\u001b[0;34m:\u001b[0m \u001b[0;34m\"submit\"\u001b[0m\u001b[0;34m,\u001b[0m \u001b[0;34m\"name\"\u001b[0m \u001b[0;34m:\u001b[0m \u001b[0;34m\"ctl00$cphContent$btnAgree\"\u001b[0m\u001b[0;34m,\u001b[0m\u001b[0;34m'value'\u001b[0m\u001b[0;34m:\u001b[0m\u001b[0;34m'I Agree'\u001b[0m\u001b[0;34m}\u001b[0m\u001b[0;34m\u001b[0m\u001b[0m\n\u001b[0;32m----> 3\u001b[0;31m \u001b[0mr\u001b[0m \u001b[0;34m=\u001b[0m \u001b[0mrequests\u001b[0m\u001b[0;34m.\u001b[0m\u001b[0msession\u001b[0m\u001b[0;34m(\u001b[0m\u001b[0;34m'http://pacificwa.taxsifter.com/Treasurer.aspx?keyId=403141&parcelNumber=10091711044&typeID=1'\u001b[0m\u001b[0;34m)\u001b[0m\u001b[0;34m\u001b[0m\u001b[0m\n\u001b[0m",
      "\u001b[0;31mTypeError\u001b[0m: session() takes 0 positional arguments but 1 was given"
     ]
    }
   ],
   "source": [
    "# url = 'https://duckduckgo.com/html/'\n",
    "payload = {\"type\": \"submit\", \"name\" : \"ctl00$cphContent$btnAgree\",'value':'I Agree'}\n",
    "r = requests.session('http://pacificwa.taxsifter.com/Treasurer.aspx?keyId=403141&parcelNumber=10091711044&typeID=1', \n",
    "                     params=payload)\n"
   ]
  },
  {
   "cell_type": "code",
   "execution_count": 6,
   "metadata": {},
   "outputs": [],
   "source": [
    "# To install the Python client library:\n",
    "# pip install -U selenium\n",
    "\n",
    "# Import the Selenium 2 namespace (aka \"webdriver\")\n",
    "from selenium import webdriver\n",
    "\n",
    "driver = webdriver.Chrome('/Users/geomando/Downloads/chromedriver')\n",
    "\n",
    "# Google Chrome \n",
    "# driver = webdriver.Chrome('/Users/geomando/Downloads')\n",
    "\n",
    "# ------------------------------\n",
    "# The actual test scenario: Test the codepad.org code execution service.\n",
    "\n",
    "# Go to codepad.org\n",
    "\n",
    "# driver.\n",
    "driver.get('http://codepad.org')\n",
    "\n",
    "# Select the Python language option\n",
    "python_link = driver.find_elements_by_xpath(\"//input[@name='lang' and @value='Python']\")[0]\n",
    "python_link.click()\n",
    "\n",
    "# Enter some text!\n",
    "text_area = driver.find_element_by_id('textarea')\n",
    "text_area.send_keys(\"print 'Hello,' + ' World!'\")\n",
    "\n",
    "# Submit the form!\n",
    "submit_button = driver.find_element_by_name('submit')\n",
    "submit_button.click()\n",
    "\n",
    "# Make this an actual test. Isn't Python beautiful?\n",
    "# assert \"Hello, World!\" in driver.get_page_source()\n",
    "\n",
    "# Close the browser!\n",
    "driver.quit()"
   ]
  },
  {
   "cell_type": "markdown",
   "metadata": {},
   "source": [
    "<input class=\"btnGeneric btnDisclaimer\" id=\"ctl00_cphContent_btnAgree\" name=\"ctl00$cphContent$btnAgree\" type=\"submit\" value=\"I Agree\"/>"
   ]
  },
  {
   "cell_type": "code",
   "execution_count": 116,
   "metadata": {},
   "outputs": [],
   "source": [
    "driver = webdriver.Chrome('/Users/geomando/Downloads/chromedriver')\n",
    "driver.get('http://pacificwa.taxsifter.com/Search/Disclaimer.aspx')\n",
    "\n",
    "\n",
    "# Submit the form!\n",
    "submit_button = driver.find_element_by_name('ctl00$cphContent$btnAgree')\n",
    "submit_button.click()\n",
    "\n",
    "parcel_id = '10110933120'\n",
    "search_area = driver.find_element_by_name('q')\n",
    "search_area.send_keys(parcel_id)\n",
    "    \n",
    "search_button = driver.find_element_by_id('submit')\n",
    "search_button.click()\n",
    "\n",
    "appraisal_button = driver.find_element_by_link_text('Appraisal')\n",
    "appraisal_button.click()\n",
    "\n",
    "# Close the browser!\n",
    "# driver.quit()"
   ]
  },
  {
   "cell_type": "code",
   "execution_count": 117,
   "metadata": {},
   "outputs": [],
   "source": [
    "appraisal_page = driver.page_source\n",
    "appraisal_soup = BeautifulSoup(appraisal_page, \"lxml\")"
   ]
  },
  {
   "cell_type": "code",
   "execution_count": 118,
   "metadata": {},
   "outputs": [],
   "source": [
    "# groucho = appraisal_soup.find(tag=\"table\",attrs = {\"style\": \"width:100%\"})\n",
    "appraisal_tables = appraisal_soup.find_all(\"table\")\n",
    "# appraisal_tables[0]"
   ]
  },
  {
   "cell_type": "code",
   "execution_count": 119,
   "metadata": {},
   "outputs": [],
   "source": [
    "for row in appraisal_tables[0].findAll(\"tr\"):\n",
    "    cells = row.findAll(\"td\")\n",
    "    #For each \"tr\", assign each \"td\" to a variable.\n",
    "    if len(cells) == 4:\n",
    "        area = cells[0].find(text=True)\n",
    "        district = cells[1].findAll(text=True)\n",
    "        town = cells[2].find(text=True)\n",
    "        county = cells[3].find(text=True)\n",
    "        \n"
   ]
  },
  {
   "cell_type": "code",
   "execution_count": 120,
   "metadata": {},
   "outputs": [],
   "source": [
    "rows = appraisal_tables[0].findAll(\"tr\")"
   ]
  },
  {
   "cell_type": "code",
   "execution_count": 121,
   "metadata": {},
   "outputs": [],
   "source": [
    "cells = rows[0].findAll(\"td\")"
   ]
  },
  {
   "cell_type": "code",
   "execution_count": 122,
   "metadata": {
    "scrolled": true
   },
   "outputs": [
    {
     "name": "stdout",
     "output_type": "stream",
     "text": [
      "<td class=\"coloredField\" style=\"width: 110px; height: 21px;\">\n",
      "            \n",
      "                Parcel#:</td>\n",
      "<td style=\"width: 304px; height: 19px;\">\n",
      "<span id=\"ctl00_cphContent_ParcelOwnerInfo1_lbParcelNumber\">10110933120</span></td>\n",
      "<td rowspan=\"5\" style=\"width: 44px; height: 21px\"> </td>\n",
      "<td class=\"coloredField\" style=\"width: 105px;height: 21px;\">\n",
      "            Owner Name:</td>\n",
      "<td>\n",
      "<span id=\"ctl00_cphContent_ParcelOwnerInfo1_lbOwnerName\">KRAUSE, ETTA LOUISE </span></td>\n"
     ]
    }
   ],
   "source": [
    "for cell in cells:\n",
    "    print(cell)"
   ]
  },
  {
   "cell_type": "code",
   "execution_count": 123,
   "metadata": {},
   "outputs": [
    {
     "data": {
      "text/plain": [
       "<table style=\"width: 100%;\">\n",
       "<tbody><tr>\n",
       "<td colspan=\"3\">\n",
       "<h1>\n",
       "                Commercial\n",
       "            </h1>\n",
       "<div class=\"subHeader\">\n",
       "                Storage Warehouse - Commercial\n",
       "            </div>\n",
       "<table cellpadding=\"0\" class=\"dataGrid\" style=\"width: 100%;\">\n",
       "<tbody><tr>\n",
       "<th>\n",
       "                        Total Area\n",
       "                    </th>\n",
       "<th>\n",
       "                        Year Built\n",
       "                    </th>\n",
       "<th>\n",
       "                        Remodel Year\n",
       "                    </th>\n",
       "<th>\n",
       "                        Quality\n",
       "                    </th>\n",
       "<th>\n",
       "                        Condition\n",
       "                    </th>\n",
       "</tr>\n",
       "<tr>\n",
       "<td align=\"center\">\n",
       "                        7000.0000\n",
       "                    </td>\n",
       "<td align=\"center\">\n",
       "                        1979\n",
       "                    </td>\n",
       "<td align=\"center\">\n",
       "</td>\n",
       "<td align=\"center\">\n",
       "                        1.5 - Fair\n",
       "                    </td>\n",
       "<td align=\"center\">\n",
       "                        3.0 - Average\n",
       "                    </td>\n",
       "</tr>\n",
       "</tbody></table>\n",
       "</td>\n",
       "</tr>\n",
       "<tr>\n",
       "<td valign=\"top\">\n",
       "<div class=\"gridLabel\">\n",
       "                Components</div>\n",
       "<div>\n",
       "<table border=\"1\" cellspacing=\"0\" class=\"dataGrid\" id=\"grdComponents\" rules=\"all\" style=\"border-collapse:collapse;width: 100%\">\n",
       "<tbody><tr>\n",
       "<th scope=\"col\">Code</th><th scope=\"col\">Description</th><th scope=\"col\">Units</th><th scope=\"col\">Percent</th>\n",
       "</tr><tr>\n",
       "<td>865</td><td>PE.-Metal Sandwich Panels</td><td>0</td><td>100%</td>\n",
       "</tr>\n",
       "</tbody></table>\n",
       "</div>\n",
       "</td>\n",
       "<td>\n",
       "             \n",
       "        </td>\n",
       "<td valign=\"top\">\n",
       "<div class=\"gridLabel\">\n",
       "                Building Data</div>\n",
       "<div>\n",
       "<table border=\"1\" cellspacing=\"0\" class=\"dataGrid\" id=\"grdBuildingData\" rules=\"all\" style=\"border-collapse:collapse;width: 100%\">\n",
       "<tbody><tr>\n",
       "<th scope=\"col\"> </th><th scope=\"col\"> </th>\n",
       "</tr><tr>\n",
       "<td>Section</td><td>Section 01</td>\n",
       "</tr><tr class=\"alternatingRows\">\n",
       "<td>Class of Construction</td><td>Metal Frame and Walls</td>\n",
       "</tr><tr>\n",
       "<td>Height</td><td> </td>\n",
       "</tr><tr class=\"alternatingRows\">\n",
       "<td>Perimeter</td><td> </td>\n",
       "</tr>\n",
       "</tbody></table>\n",
       "</div>\n",
       "</td>\n",
       "</tr>\n",
       "<tr>\n",
       "<td valign=\"top\">\n",
       "<div class=\"gridLabel\">\n",
       "                Occupancy</div>\n",
       "<div>\n",
       "<table border=\"1\" cellspacing=\"0\" class=\"dataGrid\" id=\"grdOccupancy\" rules=\"all\" style=\"border-collapse:collapse;width: 100%\">\n",
       "<tbody><tr>\n",
       "<th scope=\"col\">Occupancy Name</th><th scope=\"col\">Area</th>\n",
       "</tr><tr>\n",
       "<td>Storage Warehouse</td><td>7000.0000</td>\n",
       "</tr>\n",
       "</tbody></table>\n",
       "</div>\n",
       "</td>\n",
       "<td>\n",
       "             \n",
       "        </td>\n",
       "<td>\n",
       "             \n",
       "        </td>\n",
       "</tr>\n",
       "</tbody></table>"
      ]
     },
     "execution_count": 123,
     "metadata": {},
     "output_type": "execute_result"
    }
   ],
   "source": [
    "appraisal_tables[2]"
   ]
  },
  {
   "cell_type": "code",
   "execution_count": null,
   "metadata": {
    "collapsed": true
   },
   "outputs": [],
   "source": []
  }
 ],
 "metadata": {
  "kernelspec": {
   "display_name": "Python [default]",
   "language": "python",
   "name": "python3"
  },
  "language_info": {
   "codemirror_mode": {
    "name": "ipython",
    "version": 3
   },
   "file_extension": ".py",
   "mimetype": "text/x-python",
   "name": "python",
   "nbconvert_exporter": "python",
   "pygments_lexer": "ipython3",
   "version": "3.5.2"
  }
 },
 "nbformat": 4,
 "nbformat_minor": 1
}
