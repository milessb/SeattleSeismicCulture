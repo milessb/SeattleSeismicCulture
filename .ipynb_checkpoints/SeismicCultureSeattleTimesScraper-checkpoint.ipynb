{
 "cells": [
  {
   "cell_type": "code",
   "execution_count": 70,
   "metadata": {},
   "outputs": [],
   "source": [
    "import string\n",
    "import http\n",
    "import json\n",
    "from lxml import html\n",
    "import requests\n",
    "import pandas as pd\n",
    "from bs4 import BeautifulSoup, Comment\n",
    "import re\n",
    "from functools import reduce\n",
    "import re\n",
    "from urllib.request import urlopen\n",
    "from selenium import webdriver\n",
    "chrome_exe_path = '/Users/geomando/Dropbox/github/Zillow/chromedriver'\n",
    "from html.parser import HTMLParser\n",
    "import html2text\n",
    "from dateutil.parser import parse as parse_date"
   ]
  },
  {
   "cell_type": "code",
   "execution_count": 73,
   "metadata": {
    "collapsed": true
   },
   "outputs": [],
   "source": [
    "with open(\"test_url_list.txt\", \"rt\") as f:\n",
    "    url_list = [url.strip() for url in f.readlines()]"
   ]
  },
  {
   "cell_type": "code",
   "execution_count": 74,
   "metadata": {},
   "outputs": [
    {
     "data": {
      "text/plain": [
       "'http://infoweb.newsbank.com/resources/doc/nb/news/1665A81FD98D65A8?p=WORLDNEWS'"
      ]
     },
     "execution_count": 74,
     "metadata": {},
     "output_type": "execute_result"
    }
   ],
   "source": [
    "url_list[0]"
   ]
  },
  {
   "cell_type": "code",
   "execution_count": 75,
   "metadata": {
    "collapsed": true
   },
   "outputs": [],
   "source": [
    "ur = 'http://infoweb.newsbank.com/resources/doc/nb/news/1665A81FD98D65A8?p=WORLDNEWS'"
   ]
  },
  {
   "cell_type": "code",
   "execution_count": 76,
   "metadata": {
    "collapsed": true
   },
   "outputs": [],
   "source": [
    "ur_html = requests.get(ur).text"
   ]
  },
  {
   "cell_type": "code",
   "execution_count": 77,
   "metadata": {
    "collapsed": true
   },
   "outputs": [],
   "source": [
    "pages = [requests.get(url).text for url in url_list]"
   ]
  },
  {
   "cell_type": "code",
   "execution_count": 78,
   "metadata": {
    "collapsed": true
   },
   "outputs": [],
   "source": [
    "soup_pages = [BeautifulSoup(page, \"lxml\") for page in pages]"
   ]
  },
  {
   "cell_type": "code",
   "execution_count": 82,
   "metadata": {},
   "outputs": [],
   "source": [
    "articles = []\n",
    "for (soup_page, url) in zip(soup_pages, url_list):\n",
    "    for comment in soup_page.find_all(text=lambda text: isinstance(text, Comment) and text == ' PDF ARTICLES START HERE '):\n",
    "        \n",
    "        article = comment.find_next()\n",
    "        article = article.text.strip()\n",
    "        article = article.replace('\\n', ' ')\n",
    "        article = article.replace('Browse Issues', '</date>')\n",
    "        article = article.replace('Seattle Times, The (WA) - ', '</title> <date>')\n",
    "        article = article.replace('The Seattle Times', '')\n",
    "#         article = article.replace('Seattle Times', '')\n",
    "        article = article.replace('Seattle', ' Seattle')\n",
    "#         article = article.replace('The  Seattle', 'The Seattle')\n",
    "        article = article.replace(' Seattle Times, The (WA) (Published as THE SEATTLE TIMES)  - ', \n",
    "                                  '</title> The Seattle Times <date>')\n",
    "        article = '<title>' + article\n",
    "        \n",
    "        try:\n",
    "            author = re.search(r\"Author\\/Byline:\\s\\s(.*)(Edition:|Section:)\", article, re.I | re.M | re.S).groups()[0]\n",
    "            article = article.replace(author, '').replace('Author/Byline:  ', '')\n",
    "        except:\n",
    "            author = 'Unknown'\n",
    "        \n",
    "        try:\n",
    "            section = re.search(r\"Section:\\s\\s(.*)Page:\", article, re.I | re.M | re.S).groups()[0]\n",
    "            article = article.replace(section, '').replace('Section:', '')\n",
    "        except:\n",
    "            try:\n",
    "                section = re.search(r\"Section:\\s\\s((Pacific|Business|Local\\sNews|Local|LOCAL\\sNEWS|NW\\sArts&Life))\", article, re.I | re.M | re.S).groups()[0]\n",
    "                article = article.replace(section, '').replace('Section:', '')\n",
    "            except:\n",
    "                section = 'Unknown'\n",
    "        \n",
    "        try:\n",
    "            page = re.search(r\"Page:\\s\\s([a-zA-Z]{1}\\d)\", article, re.I | re.M | re.S).groups()[0]\n",
    "            article = article.replace(page, '').replace('Page:', '')\n",
    "        except:\n",
    "            page = 'Unknown'\n",
    "        \n",
    "        try:\n",
    "            title = re.search(r\"<title>(.*)</title>\", article, re.I | re.M | re.S).groups()[0]\n",
    "            article = article.replace(title, '').replace('<title>', '').replace('</title>', '')\n",
    "        except:\n",
    "            title = 'Unknown'\n",
    "       \n",
    "        try:\n",
    "            date = re.search(r\"<date>(.*)</date>\", article, re.I | re.M | re.S).groups()[0]\n",
    "            article = article.replace(date, '').replace('<date>', '').replace('</date>', '')\n",
    "            date = parse_date(date).strftime('%Y-%m-%d')\n",
    "        except:\n",
    "            date = 'Unknown'\n",
    "        \n",
    "        filename = (date + '_' + \n",
    "            title[:100].title().replace(' ', '').replace(',', '').replace(\"'\", \"\").replace('?', '').replace('.', '').replace(';', '').replace(':', '') + \n",
    "            '.json')\n",
    "        \n",
    "    article_dict = {\n",
    "                'title' : title,\n",
    "                'date' : date,\n",
    "                'author' : author,\n",
    "                'section' : section,\n",
    "                'page' : page,\n",
    "                'text' : article,\n",
    "                'filename' : filename,\n",
    "                'url' : url\n",
    "            }\n",
    "\n",
    "    articles.append(article_dict)\n",
    "\n",
    "    with open(filename, 'w') as f:\n",
    "        json.dump(article_dict, f)"
   ]
  },
  {
   "cell_type": "code",
   "execution_count": 83,
   "metadata": {},
   "outputs": [
    {
     "name": "stdout",
     "output_type": "stream",
     "text": [
      "Murray calls for removal of monument and statue\n",
      "2017-08-18\n",
      "Paige Cornwell,  Seattle Times staff reporter\n",
      "Local\n",
      "B1\n",
      "2017-08-18_MurrayCallsForRemovalOfMonumentAndStatue.json\n",
      "http://infoweb.newsbank.com/resources/doc/nb/news/1665A81FD98D65A8?p=WORLDNEWS\n",
      "======================================== \n",
      "\n",
      "CIVIC DUTY, ONE WAY OR THE OTHER\n",
      "1997-09-08\n",
      "JEAN GODDEN, TIMES STAFF COLUMNISTEdition:  FINAL\n",
      "LOCAL NEWS\n",
      "B1\n",
      "1997-09-08_CivicDutyOneWayOrTheOther.json\n",
      "http://infoweb.newsbank.com/resources/doc/nb/news/0EB538EF6A2ACD7F?p=WORLDNEWS\n",
      "======================================== \n",
      "\n",
      "Murray ‘concerned’ about Confederate monument in Capitol Hill cemetery\n",
      "2017-08-17\n",
      "Paige Cornwell,  Seattle Times staff reporter\n",
      "Local\n",
      "B5\n",
      "2017-08-17_Murray‘Concerned’AboutConfederateMonumentInCapitolHillCemetery.json\n",
      "http://infoweb.newsbank.com/resources/doc/nb/news/166552C844593478?p=WORLDNEWS\n",
      "======================================== \n",
      "\n",
      "Café Nordo takes off - This new take on dinner theater in  Seattle offers a chance to eat, drink and think\n",
      "2011-11-06\n",
      "Misha Berson,  Seattle Times theater criticEdition:  Fourth\n",
      "NW Arts&Life\n",
      "H1\n",
      "2011-11-06_CaféNordoTakesOff-ThisNewTakeOnDinnerTheaterInSeattleOffersAChanceToEatDrinkAnd.json\n",
      "http://infoweb.newsbank.com/resources/doc/nb/news/13AE89F52B63DD48?p=WORLDNEWS\n",
      "======================================== \n",
      "\n",
      "Some feel District 43 seat should go to gay candidate - Election 2006Winning the liberal district's Democratic primary all but guarantees victory in the general election\n",
      "2006-06-19\n",
      "Andrew Garber,  Seattle Times staff reporterEdition:  Fourth\n",
      "Local News\n",
      "B1\n",
      "2006-06-19_SomeFeelDistrict43SeatShouldGoToGayCandidate-Election2006WinningTheLiberalDistrictS.json\n",
      "http://infoweb.newsbank.com/resources/doc/nb/news/1125E35CFA96D338?p=WORLDNEWS\n",
      "======================================== \n",
      "\n",
      " Seattle turns up heat on its business experiment\n",
      "2016-08-21\n",
      "Jon Talton, Special to \n",
      "Business\n",
      "D1\n",
      "2016-08-21_SeattleTurnsUpHeatOnItsBusinessExperiment.json\n",
      "http://infoweb.newsbank.com/resources/doc/nb/news/15EEFF3D275B5910?p=WORLDNEWS\n",
      "======================================== \n",
      "\n",
      "Why Do We Bother?\n",
      "2017-01-15\n",
      "Pacific NW magazine writer\n",
      "Pacific\n",
      "Unknown\n",
      "2017-01-15_WhyDoWeBother.json\n",
      "http://infoweb.newsbank.com/resources/doc/nb/news/16207562C5E24960?p=WORLDNEWS\n",
      "======================================== \n",
      "\n"
     ]
    }
   ],
   "source": [
    "for art in articles:\n",
    "    print(art['title'])\n",
    "    print(art['date'])\n",
    "    print(art['author'])\n",
    "    print(art['section'])\n",
    "    print(art['page'])\n",
    "    print(art['filename'])\n",
    "    print(art['url'])\n",
    "    print('========================================', '\\n')"
   ]
  },
  {
   "cell_type": "code",
   "execution_count": 93,
   "metadata": {},
   "outputs": [
    {
     "data": {
      "text/plain": [
       "'Murray calls for removal of monument and statue'"
      ]
     },
     "execution_count": 93,
     "metadata": {},
     "output_type": "execute_result"
    }
   ],
   "source": [
    "with open(articles[0]['filename'], 'r') as f:\n",
    "     test_json_file = json.load(f)\n",
    "\n",
    "test_json_file['title']"
   ]
  },
  {
   "cell_type": "code",
   "execution_count": 91,
   "metadata": {},
   "outputs": [
    {
     "data": {
      "text/plain": [
       "'Paige Cornwell,  Seattle Times staff reporter'"
      ]
     },
     "execution_count": 91,
     "metadata": {},
     "output_type": "execute_result"
    }
   ],
   "source": []
  },
  {
   "cell_type": "code",
   "execution_count": null,
   "metadata": {
    "collapsed": true
   },
   "outputs": [],
   "source": []
  }
 ],
 "metadata": {
  "kernel_info": {
   "name": "python3"
  },
  "kernelspec": {
   "display_name": "Python [default]",
   "language": "python",
   "name": "python3"
  },
  "language_info": {
   "codemirror_mode": {
    "name": "ipython",
    "version": 3
   },
   "file_extension": ".py",
   "mimetype": "text/x-python",
   "name": "python",
   "nbconvert_exporter": "python",
   "pygments_lexer": "ipython3",
   "version": "3.5.2"
  },
  "nteract": {
   "version": "0.2.0"
  }
 },
 "nbformat": 4,
 "nbformat_minor": 2
}
